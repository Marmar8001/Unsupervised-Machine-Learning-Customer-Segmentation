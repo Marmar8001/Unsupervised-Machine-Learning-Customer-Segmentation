{
 "cells": [
  {
   "cell_type": "markdown",
   "metadata": {},
   "source": [
    "# Project: Identify Customer Segments\n",
    "\n",
    "
  {
   "cell_type": "code",
   "execution_count": 1,
   "metadata": {},
   "outputs": [
    {
     "data": {
      "text/plain": [
       "'\\nImport note: The classroom currently uses sklearn version 0.19.\\nIf you need to use an imputer, it is available in sklearn.preprocessing.Imputer,\\ninstead of sklearn.impute as in newer versions of sklearn.\\n'"
      ]
     },
     "execution_count": 1,
     "metadata": {},
     "output_type": "execute_result"
    }
   ],
   "source": [
    "# import libraries here; add more as necessary\n",
    "import numpy as np\n",
    "import pandas as pd\n",
    "import matplotlib.pyplot as plt\n",
    "import seaborn as sns\n",
    "from sklearn.preprocessing import Imputer\n",
    "from sklearn.preprocessing import StandardScaler\n",
    "from sklearn.decomposition import PCA\n",
    "from sklearn.cluster import KMeans\n",
    "\n",
    "\n",
    "# magic word for producing visualizations in notebook\n",
    "%matplotlib inline\n",
    "\n",
    "'''\n",
    "Import note: The classroom currently uses sklearn version 0.19.\n",
    "If you need to use an imputer, it is available in sklearn.preprocessing.Imputer,\n",
    "instead of sklearn.impute as in newer versions of sklearn.\n",
    "'''"
   ]
  },
  {
   "cell_type": "markdown",
   "metadata": {},
   "source": [
    "### Step 0: Load the Data\n",
    "\n",
    "There are four files associated with this project (not including this one):\n",
    "\n",
    "- `Udacity_AZDIAS_Subset.csv`: Demographics data for the general population of Germany; 891211 persons (rows) x 85 features (columns).\n",
    "- `Udacity_CUSTOMERS_Subset.csv`: Demographics data for customers of a mail-order company; 191652 persons (rows) x 85 features (columns).\n",
    "- `Data_Dictionary.md`: Detailed information file about the features in the provided datasets.\n",
    "- `AZDIAS_Feature_Summary.csv`: Summary of feature attributes for demographics data; 85 features (rows) x 4 columns\n",
    "\n",
    "Each row of the demographics files represents a single person, but also includes information outside of individuals, including information about their household, building, and neighborhood. You will use this information to cluster the general population into groups with similar demographic properties. Then, you will see how the people in the customers dataset fit into those created clusters. The hope here is that certain clusters are over-represented in the customers data, as compared to the general population; those over-represented clusters will be assumed to be part of the core userbase. This information can then be used for further applications, such as targeting for a marketing campaign.\n",
    "\n",
    "To start off with, load in the demographics data for the general population into a pandas DataFrame, and do the same for the feature attributes summary. Note for all of the `.csv` data files in this project: they're semicolon (`;`) delimited, so you'll need an additional argument in your [`read_csv()`](https://pandas.pydata.org/pandas-docs/stable/generated/pandas.read_csv.html) call to read in the data properly. Also, considering the size of the main dataset, it may take some time for it to load completely.\n",
    "\n",
    "Once the dataset is loaded, it's recommended that you take a little bit of time just browsing the general structure of the dataset and feature summary file. You'll be getting deep into the innards of the cleaning in the first major step of the project, so gaining some general familiarity can help you get your bearings."
   ]
  },
  {
   "cell_type": "code",
   "execution_count": 2,
   "metadata": {},
   "outputs": [],
   "source": [
    "# Load in the general demographics data.\n",
    "azdias = pd.read_csv('Udacity_AZDIAS_Subset.csv', sep=';')\n",
    "\n",
    "# Load in the feature summary file.\n",
    "feat_info = pd.read_csv('AZDIAS_Feature_Summary.csv', sep=';')"
   ]
  },
  {
   "cell_type": "code",
   "execution_count": 3,
   "metadata": {},
   "outputs": [
    {
     "name": "stdout",
     "output_type": "stream",
     "text": [
      "(891221, 85)\n"
     ]
    },
    {
     "data": {
      "text/html": [
       "<div>\n",
       "<style scoped>\n",
       "    .dataframe tbody tr th:only-of-type {\n",
       "        vertical-align: middle;\n",
       "    }\n",
       "\n",
       "    .dataframe tbody tr th {\n",
       "        vertical-align: top;\n",
       "    }\n",
       "\n",
       "    .dataframe thead th {\n",
       "        text-align: right;\n",
       "    }\n",
       "</style>\n",
       "<table border=\"1\" class=\"dataframe\">\n",
       "  <thead>\n",
       "    <tr style=\"text-align: right;\">\n",
       "      <th></th>\n",
       "      <th>AGER_TYP</th>\n",
       "      <th>ALTERSKATEGORIE_GROB</th>\n",
       "      <th>ANREDE_KZ</th>\n",
       "      <th>CJT_GESAMTTYP</th>\n",
       "      <th>FINANZ_MINIMALIST</th>\n",
       "      <th>FINANZ_SPARER</th>\n",
       "      <th>FINANZ_VORSORGER</th>\n",
       "      <th>FINANZ_ANLEGER</th>\n",
       "      <th>FINANZ_UNAUFFAELLIGER</th>\n",
       "      <th>FINANZ_HAUSBAUER</th>\n",
       "      <th>...</th>\n",
       "      <th>PLZ8_ANTG1</th>\n",
       "      <th>PLZ8_ANTG2</th>\n",
       "      <th>PLZ8_ANTG3</th>\n",
       "      <th>PLZ8_ANTG4</th>\n",
       "      <th>PLZ8_BAUMAX</th>\n",
       "      <th>PLZ8_HHZ</th>\n",
       "      <th>PLZ8_GBZ</th>\n",
       "      <th>ARBEIT</th>\n",
       "      <th>ORTSGR_KLS9</th>\n",
       "      <th>RELAT_AB</th>\n",
       "    </tr>\n",
       "  </thead>\n",
       "  <tbody>\n",
       "    <tr>\n",
       "      <th>0</th>\n",
       "      <td>-1</td>\n",
       "      <td>2</td>\n",
       "      <td>1</td>\n",
       "      <td>2.0</td>\n",
       "      <td>3</td>\n",
       "      <td>4</td>\n",
       "      <td>3</td>\n",
       "      <td>5</td>\n",
       "      <td>5</td>\n",
       "      <td>3</td>\n",
       "      <td>...</td>\n",
       "      <td>NaN</td>\n",
       "      <td>NaN</td>\n",
       "      <td>NaN</td>\n",
       "      <td>NaN</td>\n",
       "      <td>NaN</td>\n",
       "      <td>NaN</td>\n",
       "      <td>NaN</td>\n",
       "      <td>NaN</td>\n",
       "      <td>NaN</td>\n",
       "      <td>NaN</td>\n",
       "    </tr>\n",
       "    <tr>\n",
       "      <th>1</th>\n",
       "      <td>-1</td>\n",
       "      <td>1</td>\n",
       "      <td>2</td>\n",
       "      <td>5.0</td>\n",
       "      <td>1</td>\n",
       "      <td>5</td>\n",
       "      <td>2</td>\n",
       "      <td>5</td>\n",
       "      <td>4</td>\n",
       "      <td>5</td>\n",
       "      <td>...</td>\n",
       "      <td>2.0</td>\n",
       "      <td>3.0</td>\n",
       "      <td>2.0</td>\n",
       "      <td>1.0</td>\n",
       "      <td>1.0</td>\n",
       "      <td>5.0</td>\n",
       "      <td>4.0</td>\n",
       "      <td>3.0</td>\n",
       "      <td>5.0</td>\n",
       "      <td>4.0</td>\n",
       "    </tr>\n",
       "    <tr>\n",
       "      <th>2</th>\n",
       "      <td>-1</td>\n",
       "      <td>3</td>\n",
       "      <td>2</td>\n",
       "      <td>3.0</td>\n",
       "      <td>1</td>\n",
       "      <td>4</td>\n",
       "      <td>1</td>\n",
       "      <td>2</td>\n",
       "      <td>3</td>\n",
       "      <td>5</td>\n",
       "      <td>...</td>\n",
       "      <td>3.0</td>\n",
       "      <td>3.0</td>\n",
       "      <td>1.0</td>\n",
       "      <td>0.0</td>\n",
       "      <td>1.0</td>\n",
       "      <td>4.0</td>\n",
       "      <td>4.0</td>\n",
       "      <td>3.0</td>\n",
       "      <td>5.0</td>\n",
       "      <td>2.0</td>\n",
       "    </tr>\n",
       "    <tr>\n",
       "      <th>3</th>\n",
       "      <td>2</td>\n",
       "      <td>4</td>\n",
       "      <td>2</td>\n",
       "      <td>2.0</td>\n",
       "      <td>4</td>\n",
       "      <td>2</td>\n",
       "      <td>5</td>\n",
       "      <td>2</td>\n",
       "      <td>1</td>\n",
       "      <td>2</td>\n",
       "      <td>...</td>\n",
       "      <td>2.0</td>\n",
       "      <td>2.0</td>\n",
       "      <td>2.0</td>\n",
       "      <td>0.0</td>\n",
       "      <td>1.0</td>\n",
       "      <td>3.0</td>\n",
       "      <td>4.0</td>\n",
       "      <td>2.0</td>\n",
       "      <td>3.0</td>\n",
       "      <td>3.0</td>\n",
       "    </tr>\n",
       "    <tr>\n",
       "      <th>4</th>\n",
       "      <td>-1</td>\n",
       "      <td>3</td>\n",
       "      <td>1</td>\n",
       "      <td>5.0</td>\n",
       "      <td>4</td>\n",
       "      <td>3</td>\n",
       "      <td>4</td>\n",
       "      <td>1</td>\n",
       "      <td>3</td>\n",
       "      <td>2</td>\n",
       "      <td>...</td>\n",
       "      <td>2.0</td>\n",
       "      <td>4.0</td>\n",
       "      <td>2.0</td>\n",
       "      <td>1.0</td>\n",
       "      <td>2.0</td>\n",
       "      <td>3.0</td>\n",
       "      <td>3.0</td>\n",
       "      <td>4.0</td>\n",
       "      <td>6.0</td>\n",
       "      <td>5.0</td>\n",
       "    </tr>\n",
       "  </tbody>\n",
       "</table>\n",
       "<p>5 rows × 85 columns</p>\n",
       "</div>"
      ],
      "text/plain": [
       "   AGER_TYP  ALTERSKATEGORIE_GROB  ANREDE_KZ  CJT_GESAMTTYP  \\\n",
       "0        -1                     2          1            2.0   \n",
       "1        -1                     1          2            5.0   \n",
       "2        -1                     3          2            3.0   \n",
       "3         2                     4          2            2.0   \n",
       "4        -1                     3          1            5.0   \n",
       "\n",
       "   FINANZ_MINIMALIST  FINANZ_SPARER  FINANZ_VORSORGER  FINANZ_ANLEGER  \\\n",
       "0                  3              4                 3               5   \n",
       "1                  1              5                 2               5   \n",
       "2                  1              4                 1               2   \n",
       "3                  4              2                 5               2   \n",
       "4                  4              3                 4               1   \n",
       "\n",
       "   FINANZ_UNAUFFAELLIGER  FINANZ_HAUSBAUER    ...     PLZ8_ANTG1  PLZ8_ANTG2  \\\n",
       "0                      5                 3    ...            NaN         NaN   \n",
       "1                      4                 5    ...            2.0         3.0   \n",
       "2                      3                 5    ...            3.0         3.0   \n",
       "3                      1                 2    ...            2.0         2.0   \n",
       "4                      3                 2    ...            2.0         4.0   \n",
       "\n",
       "   PLZ8_ANTG3  PLZ8_ANTG4  PLZ8_BAUMAX  PLZ8_HHZ  PLZ8_GBZ  ARBEIT  \\\n",
       "0         NaN         NaN          NaN       NaN       NaN     NaN   \n",
       "1         2.0         1.0          1.0       5.0       4.0     3.0   \n",
       "2         1.0         0.0          1.0       4.0       4.0     3.0   \n",
       "3         2.0         0.0          1.0       3.0       4.0     2.0   \n",
       "4         2.0         1.0          2.0       3.0       3.0     4.0   \n",
       "\n",
       "   ORTSGR_KLS9  RELAT_AB  \n",
       "0          NaN       NaN  \n",
       "1          5.0       4.0  \n",
       "2          5.0       2.0  \n",
       "3          3.0       3.0  \n",
       "4          6.0       5.0  \n",
       "\n",
       "[5 rows x 85 columns]"
      ]
     },
     "execution_count": 3,
     "metadata": {},
     "output_type": "execute_result"
    }
   ],
   "source": [
    "# Check the structure of the data after it's loaded (e.g. print the number of\n",
    "# rows and columns, print the first few rows).\n",
    "print(azdias.shape)\n",
    "\n",
    "azdias.head(5)\n"
   ]
  },
  {
   "cell_type": "code",
   "execution_count": 4,
   "metadata": {},
   "outputs": [
    {
     "name": "stdout",
     "output_type": "stream",
     "text": [
      "(85, 4)\n"
     ]
    },
    {
     "data": {
      "text/html": [
       "<div>\n",
       "<style scoped>\n",
       "    .dataframe tbody tr th:only-of-type {\n",
       "        vertical-align: middle;\n",
       "    }\n",
       "\n",
       "    .dataframe tbody tr th {\n",
       "        vertical-align: top;\n",
       "    }\n",
       "\n",
       "    .dataframe thead th {\n",
       "        text-align: right;\n",
       "    }\n",
       "</style>\n",
       "<table border=\"1\" class=\"dataframe\">\n",
       "  <thead>\n",
       "    <tr style=\"text-align: right;\">\n",
       "      <th></th>\n",
       "      <th>attribute</th>\n",
       "      <th>information_level</th>\n",
       "      <th>type</th>\n",
       "      <th>missing_or_unknown</th>\n",
       "    </tr>\n",
       "  </thead>\n",
       "  <tbody>\n",
       "    <tr>\n",
       "      <th>0</th>\n",
       "      <td>AGER_TYP</td>\n",
       "      <td>person</td>\n",
       "      <td>categorical</td>\n",
       "      <td>[-1,0]</td>\n",
       "    </tr>\n",
       "    <tr>\n",
       "      <th>1</th>\n",
       "      <td>ALTERSKATEGORIE_GROB</td>\n",
       "      <td>person</td>\n",
       "      <td>ordinal</td>\n",
       "      <td>[-1,0,9]</td>\n",
       "    </tr>\n",
       "    <tr>\n",
       "      <th>2</th>\n",
       "      <td>ANREDE_KZ</td>\n",
       "      <td>person</td>\n",
       "      <td>categorical</td>\n",
       "      <td>[-1,0]</td>\n",
       "    </tr>\n",
       "    <tr>\n",
       "      <th>3</th>\n",
       "      <td>CJT_GESAMTTYP</td>\n",
       "      <td>person</td>\n",
       "      <td>categorical</td>\n",
       "      <td>[0]</td>\n",
       "    </tr>\n",
       "    <tr>\n",
       "      <th>4</th>\n",
       "      <td>FINANZ_MINIMALIST</td>\n",
       "      <td>person</td>\n",
       "      <td>ordinal</td>\n",
       "      <td>[-1]</td>\n",
       "    </tr>\n",
       "  </tbody>\n",
       "</table>\n",
       "</div>"
      ],
      "text/plain": [
       "              attribute information_level         type missing_or_unknown\n",
       "0              AGER_TYP            person  categorical             [-1,0]\n",
       "1  ALTERSKATEGORIE_GROB            person      ordinal           [-1,0,9]\n",
       "2             ANREDE_KZ            person  categorical             [-1,0]\n",
       "3         CJT_GESAMTTYP            person  categorical                [0]\n",
       "4     FINANZ_MINIMALIST            person      ordinal               [-1]"
      ]
     },
     "execution_count": 4,
     "metadata": {},
     "output_type": "execute_result"
    }
   ],
   "source": [
    "print(feat_info.shape)\n",
    "feat_info.head(5)\n"
   ]
  },
  {
   "cell_type": "markdown",
   "metadata": {},
   "source": [
    "> **Tip**: Add additional cells to keep everything in reasonably-sized chunks! Keyboard shortcut `esc --> a` (press escape to enter command mode, then press the 'A' key) adds a new cell before the active cell, and `esc --> b` adds a new cell after the active cell. If you need to convert an active cell to a markdown cell, use `esc --> m` and to convert to a code cell, use `esc --> y`. \n",
    "\n",
    "## Step 1: Preprocessing\n",
    "\n",
    "### Step 1.1: Assess Missing Data\n",
    "\n",
    "The feature summary file contains a summary of properties for each demographics data column. You will use this file to help you make cleaning decisions during this stage of the project. First of all, you should assess the demographics data in terms of missing data. Pay attention to the following points as you perform your analysis, and take notes on what you observe. Make sure that you fill in the **Discussion** cell with your findings and decisions at the end of each step that has one!\n",
    "\n",
    "#### Step 1.1.1: Convert Missing Value Codes to NaNs\n",
    "The fourth column of the feature attributes summary (loaded in above as `feat_info`) documents the codes from the data dictionary that indicate missing or unknown data. While the file encodes this as a list (e.g. `[-1,0]`), this will get read in as a string object. You'll need to do a little bit of parsing to make use of it to identify and clean the data. Convert data that matches a 'missing' or 'unknown' value code into a numpy NaN value. You might want to see how much data takes on a 'missing' or 'unknown' code, and how much data is naturally missing, as a point of interest.\n",
    "\n",
    "**As one more reminder, you are encouraged to add additional cells to break up your analysis into manageable chunks.**"
   ]
  },
  {
   "cell_type": "code",
   "execution_count": 5,
   "metadata": {},
   "outputs": [
    {
     "data": {
      "text/html": [
       "<div>\n",
       "<style scoped>\n",
       "    .dataframe tbody tr th:only-of-type {\n",
       "        vertical-align: middle;\n",
       "    }\n",
       "\n",
       "    .dataframe tbody tr th {\n",
       "        vertical-align: top;\n",
       "    }\n",
       "\n",
       "    .dataframe thead th {\n",
       "        text-align: right;\n",
       "    }\n",
       "</style>\n",
       "<table border=\"1\" class=\"dataframe\">\n",
       "  <thead>\n",
       "    <tr style=\"text-align: right;\">\n",
       "      <th></th>\n",
       "      <th>AGER_TYP</th>\n",
       "      <th>ALTERSKATEGORIE_GROB</th>\n",
       "      <th>ANREDE_KZ</th>\n",
       "      <th>CJT_GESAMTTYP</th>\n",
       "      <th>FINANZ_MINIMALIST</th>\n",
       "      <th>FINANZ_SPARER</th>\n",
       "      <th>FINANZ_VORSORGER</th>\n",
       "      <th>FINANZ_ANLEGER</th>\n",
       "      <th>FINANZ_UNAUFFAELLIGER</th>\n",
       "      <th>FINANZ_HAUSBAUER</th>\n",
       "      <th>...</th>\n",
       "      <th>PLZ8_ANTG1</th>\n",
       "      <th>PLZ8_ANTG2</th>\n",
       "      <th>PLZ8_ANTG3</th>\n",
       "      <th>PLZ8_ANTG4</th>\n",
       "      <th>PLZ8_BAUMAX</th>\n",
       "      <th>PLZ8_HHZ</th>\n",
       "      <th>PLZ8_GBZ</th>\n",
       "      <th>ARBEIT</th>\n",
       "      <th>ORTSGR_KLS9</th>\n",
       "      <th>RELAT_AB</th>\n",
       "    </tr>\n",
       "  </thead>\n",
       "  <tbody>\n",
       "    <tr>\n",
       "      <th>0</th>\n",
       "      <td>NaN</td>\n",
       "      <td>2.0</td>\n",
       "      <td>1</td>\n",
       "      <td>2.0</td>\n",
       "      <td>3</td>\n",
       "      <td>4</td>\n",
       "      <td>3</td>\n",
       "      <td>5</td>\n",
       "      <td>5</td>\n",
       "      <td>3</td>\n",
       "      <td>...</td>\n",
       "      <td>NaN</td>\n",
       "      <td>NaN</td>\n",
       "      <td>NaN</td>\n",
       "      <td>NaN</td>\n",
       "      <td>NaN</td>\n",
       "      <td>NaN</td>\n",
       "      <td>NaN</td>\n",
       "      <td>NaN</td>\n",
       "      <td>NaN</td>\n",
       "      <td>NaN</td>\n",
       "    </tr>\n",
       "    <tr>\n",
       "      <th>1</th>\n",
       "      <td>NaN</td>\n",
       "      <td>1.0</td>\n",
       "      <td>2</td>\n",
       "      <td>5.0</td>\n",
       "      <td>1</td>\n",
       "      <td>5</td>\n",
       "      <td>2</td>\n",
       "      <td>5</td>\n",
       "      <td>4</td>\n",
       "      <td>5</td>\n",
       "      <td>...</td>\n",
       "      <td>2.0</td>\n",
       "      <td>3.0</td>\n",
       "      <td>2.0</td>\n",
       "      <td>1.0</td>\n",
       "      <td>1.0</td>\n",
       "      <td>5.0</td>\n",
       "      <td>4.0</td>\n",
       "      <td>3.0</td>\n",
       "      <td>5.0</td>\n",
       "      <td>4.0</td>\n",
       "    </tr>\n",
       "    <tr>\n",
       "      <th>2</th>\n",
       "      <td>NaN</td>\n",
       "      <td>3.0</td>\n",
       "      <td>2</td>\n",
       "      <td>3.0</td>\n",
       "      <td>1</td>\n",
       "      <td>4</td>\n",
       "      <td>1</td>\n",
       "      <td>2</td>\n",
       "      <td>3</td>\n",
       "      <td>5</td>\n",
       "      <td>...</td>\n",
       "      <td>3.0</td>\n",
       "      <td>3.0</td>\n",
       "      <td>1.0</td>\n",
       "      <td>0.0</td>\n",
       "      <td>1.0</td>\n",
       "      <td>4.0</td>\n",
       "      <td>4.0</td>\n",
       "      <td>3.0</td>\n",
       "      <td>5.0</td>\n",
       "      <td>2.0</td>\n",
       "    </tr>\n",
       "    <tr>\n",
       "      <th>3</th>\n",
       "      <td>2.0</td>\n",
       "      <td>4.0</td>\n",
       "      <td>2</td>\n",
       "      <td>2.0</td>\n",
       "      <td>4</td>\n",
       "      <td>2</td>\n",
       "      <td>5</td>\n",
       "      <td>2</td>\n",
       "      <td>1</td>\n",
       "      <td>2</td>\n",
       "      <td>...</td>\n",
       "      <td>2.0</td>\n",
       "      <td>2.0</td>\n",
       "      <td>2.0</td>\n",
       "      <td>0.0</td>\n",
       "      <td>1.0</td>\n",
       "      <td>3.0</td>\n",
       "      <td>4.0</td>\n",
       "      <td>2.0</td>\n",
       "      <td>3.0</td>\n",
       "      <td>3.0</td>\n",
       "    </tr>\n",
       "    <tr>\n",
       "      <th>4</th>\n",
       "      <td>NaN</td>\n",
       "      <td>3.0</td>\n",
       "      <td>1</td>\n",
       "      <td>5.0</td>\n",
       "      <td>4</td>\n",
       "      <td>3</td>\n",
       "      <td>4</td>\n",
       "      <td>1</td>\n",
       "      <td>3</td>\n",
       "      <td>2</td>\n",
       "      <td>...</td>\n",
       "      <td>2.0</td>\n",
       "      <td>4.0</td>\n",
       "      <td>2.0</td>\n",
       "      <td>1.0</td>\n",
       "      <td>2.0</td>\n",
       "      <td>3.0</td>\n",
       "      <td>3.0</td>\n",
       "      <td>4.0</td>\n",
       "      <td>6.0</td>\n",
       "      <td>5.0</td>\n",
       "    </tr>\n",
       "  </tbody>\n",
       "</table>\n",
       "<p>5 rows × 85 columns</p>\n",
       "</div>"
      ],
      "text/plain": [
       "   AGER_TYP  ALTERSKATEGORIE_GROB  ANREDE_KZ  CJT_GESAMTTYP  \\\n",
       "0       NaN                   2.0          1            2.0   \n",
       "1       NaN                   1.0          2            5.0   \n",
       "2       NaN                   3.0          2            3.0   \n",
       "3       2.0                   4.0          2            2.0   \n",
       "4       NaN                   3.0          1            5.0   \n",
       "\n",
       "   FINANZ_MINIMALIST  FINANZ_SPARER  FINANZ_VORSORGER  FINANZ_ANLEGER  \\\n",
       "0                  3              4                 3               5   \n",
       "1                  1              5                 2               5   \n",
       "2                  1              4                 1               2   \n",
       "3                  4              2                 5               2   \n",
       "4                  4              3                 4               1   \n",
       "\n",
       "   FINANZ_UNAUFFAELLIGER  FINANZ_HAUSBAUER    ...     PLZ8_ANTG1  PLZ8_ANTG2  \\\n",
       "0                      5                 3    ...            NaN         NaN   \n",
       "1                      4                 5    ...            2.0         3.0   \n",
       "2                      3                 5    ...            3.0         3.0   \n",
       "3                      1                 2    ...            2.0         2.0   \n",
       "4                      3                 2    ...            2.0         4.0   \n",
       "\n",
       "   PLZ8_ANTG3  PLZ8_ANTG4  PLZ8_BAUMAX  PLZ8_HHZ  PLZ8_GBZ  ARBEIT  \\\n",
       "0         NaN         NaN          NaN       NaN       NaN     NaN   \n",
       "1         2.0         1.0          1.0       5.0       4.0     3.0   \n",
       "2         1.0         0.0          1.0       4.0       4.0     3.0   \n",
       "3         2.0         0.0          1.0       3.0       4.0     2.0   \n",
       "4         2.0         1.0          2.0       3.0       3.0     4.0   \n",
       "\n",
       "   ORTSGR_KLS9  RELAT_AB  \n",
       "0          NaN       NaN  \n",
       "1          5.0       4.0  \n",
       "2          5.0       2.0  \n",
       "3          3.0       3.0  \n",
       "4          6.0       5.0  \n",
       "\n",
       "[5 rows x 85 columns]"
      ]
     },
     "execution_count": 5,
     "metadata": {},
     "output_type": "execute_result"
    }
   ],
   "source": [
    "# Identify missing or unknown data values and convert them to NaNs.\n",
    "\n",
    "for index in feat_info.index:\n",
    "    feat_info['missing_or_unknown'][index]=feat_info['missing_or_unknown'][index].strip('[')\n",
    "    feat_info['missing_or_unknown'][index]=feat_info['missing_or_unknown'][index].strip(']')\n",
    "    feat_info['missing_or_unknown'][index]=feat_info['missing_or_unknown'][index].split(',')\n",
    "    \n",
    "    for item in range(len(feat_info['missing_or_unknown'][index])):\n",
    "        try:\n",
    "            feat_info['missing_or_unknown'][index][item]=int(feat_info['missing_or_unknown'][index][item])\n",
    "        except:\n",
    "            continue\n",
    "            \n",
    "    column_name=feat_info['attribute'][index]\n",
    "    azdias.loc[:,feat_info['attribute'][index]].replace(feat_info['missing_or_unknown'][index], np.nan, inplace=True)\n",
    "    \n",
    "azdias.head(5)\n"
   ]
  },
  {
   "cell_type": "code",
   "execution_count": 6,
   "metadata": {},
   "outputs": [],
   "source": [
    "missing_values=azdias.isnull().sum()"
   ]
  },
  {
   "cell_type": "markdown",
   "metadata": {},
   "source": [
    "#### Step 1.1.2: Assess Missing Data in Each Column\n",
    "\n",
    "How much missing data is present in each column? There are a few columns that are outliers in terms of the proportion of values that are missing. You will want to use matplotlib's [`hist()`](https://matplotlib.org/api/_as_gen/matplotlib.pyplot.hist.html) function to visualize the distribution of missing value counts to find these columns. Identify and document these columns. While some of these columns might have justifications for keeping or re-encoding the data, for this project you should just remove them from the dataframe. (Feel free to make remarks about these outlier columns in the discussion, however!)\n",
    "\n",
    "For the remaining features, are there any patterns in which columns have, or share, missing data?"
   ]
  },
  {
   "cell_type": "code",
   "execution_count": 7,
   "metadata": {},
   "outputs": [
    {
     "data": {
      "image/png": "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\n",
      "text/plain": [
       "<matplotlib.figure.Figure at 0x7f4e861495f8>"
      ]
     },
     "metadata": {
      "needs_background": "light"
     },
     "output_type": "display_data"
    }
   ],
   "source": [
    "# Perform an assessment of how much missing data there is in each column of the\n",
    "# dataset.\n",
    "\n",
    "plt.hist(missing_values);\n",
    "plt.xlabel('missing values')\n",
    "plt.yticks([0,5,10,15,20,25,30,35,40]);"
   ]
  },
  {
   "cell_type": "code",
   "execution_count": 8,
   "metadata": {},
   "outputs": [
    {
     "name": "stdout",
     "output_type": "stream",
     "text": [
      "AGER_TYP        685843\n",
      "GEBURTSJAHR     392318\n",
      "TITEL_KZ        889061\n",
      "ALTER_HH        310267\n",
      "KK_KUNDENTYP    584612\n",
      "KBA05_BAUMAX    476524\n",
      "dtype: int64\n"
     ]
    }
   ],
   "source": [
    "# Investigate patterns in the amount of missing data in each column.\n",
    "\n",
    "outliers=missing_values[missing_values>200000]\n",
    "print(outliers)\n"
   ]
  },
  {
   "cell_type": "code",
   "execution_count": 9,
   "metadata": {},
   "outputs": [
    {
     "data": {
      "text/plain": [
       "(891221, 85)"
      ]
     },
     "execution_count": 9,
     "metadata": {},
     "output_type": "execute_result"
    }
   ],
   "source": [
    "azdias.shape\n"
   ]
  },
  {
   "cell_type": "code",
   "execution_count": 10,
   "metadata": {},
   "outputs": [
    {
     "data": {
      "text/plain": [
       "(891221, 79)"
      ]
     },
     "execution_count": 10,
     "metadata": {},
     "output_type": "execute_result"
    }
   ],
   "source": [
    "# Remove the outlier columns from the dataset. (You'll perform other data\n",
    "# engineering tasks such as re-encoding and imputation later.)\n",
    "\n",
    "azdias.drop(outliers.index, axis=1, inplace=True)\n",
    "azdias.shape"
   ]
  },
  {
   "cell_type": "markdown",
   "metadata": {},
   "source": [
    "#### Discussion 1.1.2: Assess Missing Data in Each Column\n",
    "After replacing all missing values with Nan, the columns evaluated.\n",
    "As you saw in above data, most of missing values are in 6 columns. All these columns have missing values more than 200000. For this reason all these columns dropped from dataframe."
   ]
  },
  {
   "cell_type": "markdown",
   "metadata": {},
   "source": [
    "#### Step 1.1.3: Assess Missing Data in Each Row\n",
    "\n",
    "Now, you'll perform a similar assessment for the rows of the dataset. How much data is missing in each row? As with the columns, you should see some groups of points that have a very different numbers of missing values. Divide the data into two subsets: one for data points that are above some threshold for missing values, and a second subset for points below that threshold.\n",
    "\n",
    "In order to know what to do with the outlier rows, we should see if the distribution of data values on columns that are not missing data (or are missing very little data) are similar or different between the two groups. Select at least five of these columns and compare the distribution of values.\n",
    "- You can use seaborn's [`countplot()`](https://seaborn.pydata.org/generated/seaborn.countplot.html) function to create a bar chart of code frequencies and matplotlib's [`subplot()`](https://matplotlib.org/api/_as_gen/matplotlib.pyplot.subplot.html) function to put bar charts for the two subplots side by side.\n",
    "- To reduce repeated code, you might want to write a function that can perform this comparison, taking as one of its arguments a column to be compared.\n",
    "\n",
    "Depending on what you observe in your comparison, this will have implications on how you approach your conclusions later in the analysis. If the distributions of non-missing features look similar between the data with many missing values and the data with few or no missing values, then we could argue that simply dropping those points from the analysis won't present a major issue. On the other hand, if the data with many missing values looks very different from the data with few or no missing values, then we should make a note on those data as special. We'll revisit these data later on. **Either way, you should continue your analysis for now using just the subset of the data with few or no missing values.**"
   ]
  },
  {
   "cell_type": "code",
   "execution_count": 11,
   "metadata": {},
   "outputs": [
    {
     "data": {
      "text/plain": [
       "Text(0,0.5,'Row index')"
      ]
     },
     "execution_count": 11,
     "metadata": {},
     "output_type": "execute_result"
    },
    {
     "data": {
      "image/png": "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\n",
      "text/plain": [
       "<matplotlib.figure.Figure at 0x7f4e860d05c0>"
      ]
     },
     "metadata": {
      "needs_background": "light"
     },
     "output_type": "display_data"
    }
   ],
   "source": [
    "# How much data is missing in each row of the dataset?\n",
    "missing_row=azdias.isnull().sum(axis=1)\n",
    "plt.hist(missing_row);\n",
    "plt.xlabel(\"missing values in each row\")\n",
    "plt.ylabel('Row index')\n",
    "\n",
    "\n"
   ]
  },
  {
   "cell_type": "code",
   "execution_count": 12,
   "metadata": {},
   "outputs": [
    {
     "data": {
      "image/png": "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\n",
      "text/plain": [
       "<matplotlib.figure.Figure at 0x7f4e861612e8>"
      ]
     },
     "metadata": {
      "needs_background": "light"
     },
     "output_type": "display_data"
    }
   ],
   "source": [
    "# Write code to divide the data into two subsets based on the number of missing\n",
    "# values in each row.\n",
    "\n",
    "azdias_high=azdias[missing_row >20]\n",
    "azdias_low=azdias[missing_row<20]\n",
    "\n",
    "missing_row_high=azdias_high.isnull().sum(axis=1)\n",
    "missing_row_low=azdias_low.isnull().sum(axis=1)\n",
    "plt.hist(missing_row_low);    \n",
    "plt.hist(missing_row_high);    \n"
   ]
  },
  {
   "cell_type": "code",
   "execution_count": 13,
   "metadata": {},
   "outputs": [
    {
     "data": {
      "image/png": "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\n",
      "text/plain": [
       "<matplotlib.figure.Figure at 0x7f4e86039860>"
      ]
     },
     "metadata": {
      "needs_background": "light"
     },
     "output_type": "display_data"
    }
   ],
   "source": [
    "# Compare the distribution of values for at least five columns where there are\n",
    "# no or few missing values, between the two subsets.\n",
    "\n",
    "\n",
    "fig, axes = plt.subplots(nrows=7, ncols=2, figsize=(20,30))\n",
    "n=0\n",
    "for column in azdias.columns[:7]:\n",
    "    sns.countplot(azdias_low.loc[:,column],ax=axes[n,0])\n",
    "    sns.countplot(azdias_high.loc[:,column],ax=axes[n,1])\n",
    "    n=n+1\n",
    "        \n",
    "\n"
   ]
  },
  {
   "cell_type": "markdown",
   "metadata": {},
   "source": [
    "#### Discussion 1.1.3: Assess Missing Data in Each Row\n",
    "\n",
    "* The data divided to two sets based on the quantity of missing values ( above and below 20). After comparing two sets in several columns in countplots, it seems the trends are not the same in two sets of data. To make sure to deal with minimum unknown values, for the rest of the work, I use the dataset with null values below 20 in each row."
   ]
  },
  {
   "cell_type": "markdown",
   "metadata": {},
   "source": [
    "### Step 1.2: Select and Re-Encode Features\n",
    "\n",
    "Checking for missing data isn't the only way in which you can prepare a dataset for analysis. Since the unsupervised learning techniques to be used will only work on data that is encoded numerically, you need to make a few encoding changes or additional assumptions to be able to make progress. In addition, while almost all of the values in the dataset are encoded using numbers, not all of them represent numeric values. Check the third column of the feature summary (`feat_info`) for a summary of types of measurement.\n",
    "- For numeric and interval data, these features can be kept without changes.\n",
    "- Most of the variables in the dataset are ordinal in nature. While ordinal values may technically be non-linear in spacing, make the simplifying assumption that the ordinal variables can be treated as being interval in nature (that is, kept without any changes).\n",
    "- Special handling may be necessary for the remaining two variable types: categorical, and 'mixed'.\n",
    "\n",
    "In the first two parts of this sub-step, you will perform an investigation of the categorical and mixed-type features and make a decision on each of them, whether you will keep, drop, or re-encode each. Then, in the last part, you will create a new data frame with only the selected and engineered columns.\n",
    "\n",
    "Data wrangling is often the trickiest part of the data analysis process, and there's a lot of it to be done here. But stick with it: once you're done with this step, you'll be ready to get to the machine learning parts of the project!"
   ]
  },
  {
   "cell_type": "code",
   "execution_count": 14,
   "metadata": {},
   "outputs": [
    {
     "data": {
      "text/plain": [
       "type\n",
       "categorical    21\n",
       "interval        1\n",
       "mixed           7\n",
       "numeric         7\n",
       "ordinal        49\n",
       "Name: attribute, dtype: int64"
      ]
     },
     "execution_count": 14,
     "metadata": {},
     "output_type": "execute_result"
    }
   ],
   "source": [
    "# How many features are there of each data type?\n",
    "\n",
    "feat_info.groupby('type').count()['attribute']"
   ]
  },
  {
   "cell_type": "markdown",
   "metadata": {},
   "source": [
    "#### Step 1.2.1: Re-Encode Categorical Features\n",
    "\n",
    "For categorical data, you would ordinarily need to encode the levels as dummy variables. Depending on the number of categories, perform one of the following:\n",
    "- For binary (two-level) categoricals that take numeric values, you can keep them without needing to do anything.\n",
    "- There is one binary variable that takes on non-numeric values. For this one, you need to re-encode the values as numbers or create a dummy variable.\n",
    "- For multi-level categoricals (three or more values), you can choose to encode the values using multiple dummy variables (e.g. via [OneHotEncoder](http://scikit-learn.org/stable/modules/generated/sklearn.preprocessing.OneHotEncoder.html)), or (to keep things straightforward) just drop them from the analysis. As always, document your choices in the Discussion section."
   ]
  },
  {
   "cell_type": "code",
   "execution_count": 15,
   "metadata": {},
   "outputs": [
    {
     "data": {
      "text/plain": [
       "['CJT_GESAMTTYP',\n",
       " 'FINANZTYP',\n",
       " 'GFK_URLAUBERTYP',\n",
       " 'LP_FAMILIE_FEIN',\n",
       " 'LP_FAMILIE_GROB',\n",
       " 'LP_STATUS_FEIN',\n",
       " 'LP_STATUS_GROB',\n",
       " 'NATIONALITAET_KZ',\n",
       " 'SHOPPER_TYP',\n",
       " 'ZABEOTYP',\n",
       " 'GEBAEUDETYP',\n",
       " 'CAMEO_DEUG_2015',\n",
       " 'CAMEO_DEU_2015']"
      ]
     },
     "execution_count": 15,
     "metadata": {},
     "output_type": "execute_result"
    }
   ],
   "source": [
    "# Assess categorical variables: which are binary, which are multi-level, and\n",
    "# which one needs to be re-encoded?\n",
    "categorical=feat_info.query('type==\"categorical\"')\n",
    "categorical_list=list(categorical['attribute'])\n",
    "categorical=[x for x in categorical_list if x in azdias_low.columns]\n",
    "binary=[x for x in categorical if azdias_low[x].nunique()==2]\n",
    "multi_level=[x for x in categorical if azdias_low[x].nunique()>2]\n",
    "multi_level"
   ]
  },
  {
   "cell_type": "code",
   "execution_count": 16,
   "metadata": {},
   "outputs": [
    {
     "name": "stdout",
     "output_type": "stream",
     "text": [
      "for ANREDE_KZ variable, the variable type is int64\n",
      "for GREEN_AVANTGARDE variable, the variable type is int64\n",
      "for SOHO_KZ variable, the variable type is float64\n",
      "for VERS_TYP variable, the variable type is float64\n",
      "for OST_WEST_KZ variable, the variable type is object\n"
     ]
    }
   ],
   "source": [
    "# Re-encode categorical variable(s) to be kept in the analysis.\n",
    "for x in binary:\n",
    "    print(\"for {} variable, the variable type is {}\".format(x,azdias[x].dtypes))"
   ]
  },
  {
   "cell_type": "code",
   "execution_count": 17,
   "metadata": {},
   "outputs": [
    {
     "name": "stderr",
     "output_type": "stream",
     "text": [
      "/opt/conda/lib/python3.6/site-packages/ipykernel_launcher.py:2: SettingWithCopyWarning: \n",
      "A value is trying to be set on a copy of a slice from a DataFrame.\n",
      "Try using .loc[row_indexer,col_indexer] = value instead\n",
      "\n",
      "See the caveats in the documentation: http://pandas.pydata.org/pandas-docs/stable/indexing.html#indexing-view-versus-copy\n",
      "  \n"
     ]
    },
    {
     "data": {
      "text/plain": [
       "0    628695\n",
       "1    168382\n",
       "Name: OST_WEST_KZ, dtype: int64"
      ]
     },
     "execution_count": 17,
     "metadata": {},
     "output_type": "execute_result"
    }
   ],
   "source": [
    "#encode object type variable\n",
    "azdias_low['OST_WEST_KZ'] = azdias_low['OST_WEST_KZ'].apply({'W':0, 'O':1}.get)\n",
    "azdias_low['OST_WEST_KZ'].value_counts()"
   ]
  },
  {
   "cell_type": "code",
   "execution_count": 18,
   "metadata": {},
   "outputs": [
    {
     "data": {
      "text/plain": [
       "ANREDE_KZ            2\n",
       "CJT_GESAMTTYP        6\n",
       "FINANZTYP            6\n",
       "GFK_URLAUBERTYP     12\n",
       "GREEN_AVANTGARDE     2\n",
       "LP_FAMILIE_FEIN     11\n",
       "LP_FAMILIE_GROB      5\n",
       "LP_STATUS_FEIN      10\n",
       "LP_STATUS_GROB       5\n",
       "NATIONALITAET_KZ     3\n",
       "SHOPPER_TYP          4\n",
       "SOHO_KZ              2\n",
       "VERS_TYP             2\n",
       "ZABEOTYP             6\n",
       "GEBAEUDETYP          7\n",
       "OST_WEST_KZ          2\n",
       "CAMEO_DEUG_2015      9\n",
       "CAMEO_DEU_2015      44\n",
       "dtype: int64"
      ]
     },
     "execution_count": 18,
     "metadata": {},
     "output_type": "execute_result"
    }
   ],
   "source": [
    "\n",
    "azdias_low[categorical].nunique()"
   ]
  },
  {
   "cell_type": "code",
   "execution_count": 19,
   "metadata": {},
   "outputs": [
    {
     "name": "stderr",
     "output_type": "stream",
     "text": [
      "/opt/conda/lib/python3.6/site-packages/pandas/core/frame.py:3697: SettingWithCopyWarning: \n",
      "A value is trying to be set on a copy of a slice from a DataFrame\n",
      "\n",
      "See the caveats in the documentation: http://pandas.pydata.org/pandas-docs/stable/indexing.html#indexing-view-versus-copy\n",
      "  errors=errors)\n"
     ]
    }
   ],
   "source": [
    "# Remove multi-level variables from dataset\n",
    "for col in multi_level:\n",
    "    azdias_low.drop(col, axis=1, inplace=True)\n",
    "    \n",
    "    "
   ]
  },
  {
   "cell_type": "code",
   "execution_count": 20,
   "metadata": {},
   "outputs": [
    {
     "data": {
      "text/plain": [
       "Index(['ALTERSKATEGORIE_GROB', 'ANREDE_KZ', 'FINANZ_MINIMALIST',\n",
       "       'FINANZ_SPARER', 'FINANZ_VORSORGER', 'FINANZ_ANLEGER',\n",
       "       'FINANZ_UNAUFFAELLIGER', 'FINANZ_HAUSBAUER', 'GREEN_AVANTGARDE',\n",
       "       'HEALTH_TYP', 'LP_LEBENSPHASE_FEIN', 'LP_LEBENSPHASE_GROB',\n",
       "       'PRAEGENDE_JUGENDJAHRE', 'RETOURTYP_BK_S', 'SEMIO_SOZ', 'SEMIO_FAM',\n",
       "       'SEMIO_REL', 'SEMIO_MAT', 'SEMIO_VERT', 'SEMIO_LUST', 'SEMIO_ERL',\n",
       "       'SEMIO_KULT', 'SEMIO_RAT', 'SEMIO_KRIT', 'SEMIO_DOM', 'SEMIO_KAEM',\n",
       "       'SEMIO_PFLICHT', 'SEMIO_TRADV', 'SOHO_KZ', 'VERS_TYP', 'ANZ_PERSONEN',\n",
       "       'ANZ_TITEL', 'HH_EINKOMMEN_SCORE', 'W_KEIT_KIND_HH', 'WOHNDAUER_2008',\n",
       "       'ANZ_HAUSHALTE_AKTIV', 'ANZ_HH_TITEL', 'KONSUMNAEHE',\n",
       "       'MIN_GEBAEUDEJAHR', 'OST_WEST_KZ', 'WOHNLAGE', 'CAMEO_INTL_2015',\n",
       "       'KBA05_ANTG1', 'KBA05_ANTG2', 'KBA05_ANTG3', 'KBA05_ANTG4', 'KBA05_GBZ',\n",
       "       'BALLRAUM', 'EWDICHTE', 'INNENSTADT', 'GEBAEUDETYP_RASTER', 'KKK',\n",
       "       'MOBI_REGIO', 'ONLINE_AFFINITAET', 'REGIOTYP', 'KBA13_ANZAHL_PKW',\n",
       "       'PLZ8_ANTG1', 'PLZ8_ANTG2', 'PLZ8_ANTG3', 'PLZ8_ANTG4', 'PLZ8_BAUMAX',\n",
       "       'PLZ8_HHZ', 'PLZ8_GBZ', 'ARBEIT', 'ORTSGR_KLS9', 'RELAT_AB'],\n",
       "      dtype='object')"
      ]
     },
     "execution_count": 20,
     "metadata": {},
     "output_type": "execute_result"
    }
   ],
   "source": [
    "# finding columns in dataset\n",
    "azdias_low.columns"
   ]
  },
  {
   "cell_type": "markdown",
   "metadata": {},
   "source": [
    "#### Discussion 1.2.1: Re-Encode Categorical Features\n",
    "\n",
    "In binary data, I encoded W and O with 0 and 1 in \"OST_WEST_KZ\" column in dataset. In multilevel data, I removed multilevel columns from dataset for simplification"
   ]
  },
  {
   "cell_type": "markdown",
   "metadata": {},
   "source": [
    "#### Step 1.2.2: Engineer Mixed-Type Features\n",
    "\n",
    "There are a handful of features that are marked as \"mixed\" in the feature summary that require special treatment in order to be included in the analysis. There are two in particular that deserve attention; the handling of the rest are up to your own choices:\n",
    "- \"PRAEGENDE_JUGENDJAHRE\" combines information on three dimensions: generation by decade, movement (mainstream vs. avantgarde), and nation (east vs. west). While there aren't enough levels to disentangle east from west, you should create two new variables to capture the other two dimensions: an interval-type variable for decade, and a binary variable for movement.\n",
    "- \"CAMEO_INTL_2015\" combines information on two axes: wealth and life stage. Break up the two-digit codes by their 'tens'-place and 'ones'-place digits into two new ordinal variables (which, for the purposes of this project, is equivalent to just treating them as their raw numeric values).\n",
    "- If you decide to keep or engineer new features around the other mixed-type features, make sure you note your steps in the Discussion section.\n",
    "\n",
    "Be sure to check `Data_Dictionary.md` for the details needed to finish these tasks."
   ]
  },
  {
   "cell_type": "code",
   "execution_count": 21,
   "metadata": {},
   "outputs": [
    {
     "name": "stderr",
     "output_type": "stream",
     "text": [
      "/opt/conda/lib/python3.6/site-packages/pandas/core/indexing.py:543: SettingWithCopyWarning: \n",
      "A value is trying to be set on a copy of a slice from a DataFrame.\n",
      "Try using .loc[row_indexer,col_indexer] = value instead\n",
      "\n",
      "See the caveats in the documentation: http://pandas.pydata.org/pandas-docs/stable/indexing.html#indexing-view-versus-copy\n",
      "  self.obj[item] = s\n",
      "/opt/conda/lib/python3.6/site-packages/ipykernel_launcher.py:19: SettingWithCopyWarning: \n",
      "A value is trying to be set on a copy of a slice from a DataFrame.\n",
      "Try using .loc[row_indexer,col_indexer] = value instead\n",
      "\n",
      "See the caveats in the documentation: http://pandas.pydata.org/pandas-docs/stable/indexing.html#indexing-view-versus-copy\n"
     ]
    }
   ],
   "source": [
    "# Investigate \"PRAEGENDE_JUGENDJAHRE\" and engineer two new variables.\n",
    "\n",
    "Mainstream=[1,3,5,8,10,12,14]\n",
    "Avantgarde=[2,4,6,7,9,11,13,15]\n",
    "def movement(i):\n",
    "    if i in Mainstream:\n",
    "        return 0\n",
    "    elif i in Avantgarde:\n",
    "        return 1\n",
    "    else:\n",
    "        return i\n",
    "azdias_low.loc[:,'PRAEGENDE_JUGENDJAHRE']=azdias_low.loc[:,'PRAEGENDE_JUGENDJAHRE'].apply(lambda x: movement(x))\n",
    "\n",
    "x=[x+1 for x in range(15)]\n",
    "y=[40,40,50,50,60,60,60,70,70,80,80,80,80,90,90]\n",
    "decade=pd.Series(y, index=x)\n",
    "\n",
    "for i in range(15):\n",
    "    azdias_low['PRAEGENDE_JUGENDJAHRE_decade']=azdias_low['PRAEGENDE_JUGENDJAHRE'].map(decade)"
   ]
  },
  {
   "cell_type": "code",
   "execution_count": 22,
   "metadata": {},
   "outputs": [
    {
     "name": "stderr",
     "output_type": "stream",
     "text": [
      "/opt/conda/lib/python3.6/site-packages/ipykernel_launcher.py:3: SettingWithCopyWarning: \n",
      "A value is trying to be set on a copy of a slice from a DataFrame.\n",
      "Try using .loc[row_indexer,col_indexer] = value instead\n",
      "\n",
      "See the caveats in the documentation: http://pandas.pydata.org/pandas-docs/stable/indexing.html#indexing-view-versus-copy\n",
      "  This is separate from the ipykernel package so we can avoid doing imports until\n",
      "/opt/conda/lib/python3.6/site-packages/ipykernel_launcher.py:4: SettingWithCopyWarning: \n",
      "A value is trying to be set on a copy of a slice from a DataFrame.\n",
      "Try using .loc[row_indexer,col_indexer] = value instead\n",
      "\n",
      "See the caveats in the documentation: http://pandas.pydata.org/pandas-docs/stable/indexing.html#indexing-view-versus-copy\n",
      "  after removing the cwd from sys.path.\n"
     ]
    }
   ],
   "source": [
    "# Investigate \"CAMEO_INTL_2015\" and engineer two new variables.\n",
    "no_null=azdias_low[\"CAMEO_INTL_2015\"][azdias_low[\"CAMEO_INTL_2015\"].notnull()]\n",
    "azdias_low[\"CAMEO_INTL_2015_Wealth\"]=no_null.apply (lambda x: int(str(x)[0]))\n",
    "azdias_low[\"CAMEO_INTL_2015_LifeStage\"]=no_null.map(lambda x: int(str(x)[1]))\n"
   ]
  },
  {
   "cell_type": "code",
   "execution_count": 23,
   "metadata": {},
   "outputs": [
    {
     "data": {
      "text/plain": [
       "LP_LEBENSPHASE_FEIN      40\n",
       "LP_LEBENSPHASE_GROB      12\n",
       "PRAEGENDE_JUGENDJAHRE     2\n",
       "WOHNLAGE                  8\n",
       "CAMEO_INTL_2015          21\n",
       "PLZ8_BAUMAX               5\n",
       "dtype: int64"
      ]
     },
     "execution_count": 23,
     "metadata": {},
     "output_type": "execute_result"
    }
   ],
   "source": [
    "mixed=feat_info.query('type==\"mixed\"')\n",
    "mixed_list=list(mixed['attribute'])\n",
    "mixed=[x for x in mixed_list if x in azdias_low.columns]\n",
    "azdias_low[mixed].nunique()"
   ]
  },
  {
   "cell_type": "code",
   "execution_count": 24,
   "metadata": {},
   "outputs": [
    {
     "name": "stderr",
     "output_type": "stream",
     "text": [
      "/opt/conda/lib/python3.6/site-packages/pandas/core/frame.py:3697: SettingWithCopyWarning: \n",
      "A value is trying to be set on a copy of a slice from a DataFrame\n",
      "\n",
      "See the caveats in the documentation: http://pandas.pydata.org/pandas-docs/stable/indexing.html#indexing-view-versus-copy\n",
      "  errors=errors)\n"
     ]
    }
   ],
   "source": [
    "# drop columns with mixed values for simplicity\n",
    "azdias_low.drop(mixed , axis=1, inplace=True)"
   ]
  },
  {
   "cell_type": "code",
   "execution_count": 25,
   "metadata": {},
   "outputs": [
    {
     "data": {
      "text/plain": [
       "Index(['ALTERSKATEGORIE_GROB', 'ANREDE_KZ', 'FINANZ_MINIMALIST',\n",
       "       'FINANZ_SPARER', 'FINANZ_VORSORGER', 'FINANZ_ANLEGER',\n",
       "       'FINANZ_UNAUFFAELLIGER', 'FINANZ_HAUSBAUER', 'GREEN_AVANTGARDE',\n",
       "       'HEALTH_TYP', 'RETOURTYP_BK_S', 'SEMIO_SOZ', 'SEMIO_FAM', 'SEMIO_REL',\n",
       "       'SEMIO_MAT', 'SEMIO_VERT', 'SEMIO_LUST', 'SEMIO_ERL', 'SEMIO_KULT',\n",
       "       'SEMIO_RAT', 'SEMIO_KRIT', 'SEMIO_DOM', 'SEMIO_KAEM', 'SEMIO_PFLICHT',\n",
       "       'SEMIO_TRADV', 'SOHO_KZ', 'VERS_TYP', 'ANZ_PERSONEN', 'ANZ_TITEL',\n",
       "       'HH_EINKOMMEN_SCORE', 'W_KEIT_KIND_HH', 'WOHNDAUER_2008',\n",
       "       'ANZ_HAUSHALTE_AKTIV', 'ANZ_HH_TITEL', 'KONSUMNAEHE',\n",
       "       'MIN_GEBAEUDEJAHR', 'OST_WEST_KZ', 'KBA05_ANTG1', 'KBA05_ANTG2',\n",
       "       'KBA05_ANTG3', 'KBA05_ANTG4', 'KBA05_GBZ', 'BALLRAUM', 'EWDICHTE',\n",
       "       'INNENSTADT', 'GEBAEUDETYP_RASTER', 'KKK', 'MOBI_REGIO',\n",
       "       'ONLINE_AFFINITAET', 'REGIOTYP', 'KBA13_ANZAHL_PKW', 'PLZ8_ANTG1',\n",
       "       'PLZ8_ANTG2', 'PLZ8_ANTG3', 'PLZ8_ANTG4', 'PLZ8_HHZ', 'PLZ8_GBZ',\n",
       "       'ARBEIT', 'ORTSGR_KLS9', 'RELAT_AB', 'PRAEGENDE_JUGENDJAHRE_decade',\n",
       "       'CAMEO_INTL_2015_Wealth', 'CAMEO_INTL_2015_LifeStage'],\n",
       "      dtype='object')"
      ]
     },
     "execution_count": 25,
     "metadata": {},
     "output_type": "execute_result"
    }
   ],
   "source": [
    "azdias_low.columns"
   ]
  },
  {
   "cell_type": "code",
   "execution_count": 26,
   "metadata": {},
   "outputs": [
    {
     "data": {
      "text/plain": [
       "(797077, 63)"
      ]
     },
     "execution_count": 26,
     "metadata": {},
     "output_type": "execute_result"
    }
   ],
   "source": [
    "azdias_low.shape"
   ]
  },
  {
   "cell_type": "markdown",
   "metadata": {},
   "source": [
    "#### Discussion 1.2.2: Engineer Mixed-Type Features\n",
    "\n",
    "* For \"PRAEGENDE_JUGENDJAHRE\" column, the column divided to two columns. One column was encoded to 0 and 1 based on the movement. the second column was based on the decade timing.\n",
    "* For \"CAMEO_INTL_2015\" column, the column divided to two columns based on wealth and life stage. For wealth, the data encoded to the tens place and for life stage data encoded to the ones place.\n",
    "* 'LP_LEBENSPHASE_FEIN'column was dropped because of having alot of encoded variables."
   ]
  },
  {
   "cell_type": "markdown",
   "metadata": {},
   "source": [
    "#### Step 1.2.3: Complete Feature Selection\n",
    "\n",
    "In order to finish this step up, you need to make sure that your data frame now only has the columns that you want to keep. To summarize, the dataframe should consist of the following:\n",
    "- All numeric, interval, and ordinal type columns from the original dataset.\n",
    "- Binary categorical features (all numerically-encoded).\n",
    "- Engineered features from other multi-level categorical features and mixed features.\n",
    "\n",
    "Make sure that for any new columns that you have engineered, that you've excluded the original columns from the final dataset. Otherwise, their values will interfere with the analysis later on the project. For example, you should not keep \"PRAEGENDE_JUGENDJAHRE\", since its values won't be useful for the algorithm: only the values derived from it in the engineered features you created should be retained. As a reminder, your data should only be from **the subset with few or no missing values**."
   ]
  },
  {
   "cell_type": "markdown",
   "metadata": {},
   "source": [
    "### Step 1.3: Create a Cleaning Function\n",
    "\n",
    "Even though you've finished cleaning up the general population demographics data, it's important to look ahead to the future and realize that you'll need to perform the same cleaning steps on the customer demographics data. In this substep, complete the function below to execute the main feature selection, encoding, and re-engineering steps you performed above. Then, when it comes to looking at the customer data in Step 3, you can just run this function on that DataFrame to get the trimmed dataset in a single step."
   ]
  },
  {
   "cell_type": "code",
   "execution_count": 27,
   "metadata": {},
   "outputs": [],
   "source": [
    "def clean_data(df):\n",
    "    \"\"\"\n",
    "    Perform feature trimming, re-encoding, and engineering for demographics\n",
    "    data\n",
    "    \n",
    "    INPUT: Demographics DataFrame\n",
    "    OUTPUT: Trimmed and cleaned demographics DataFrame\n",
    "    \"\"\"\n",
    "    \n",
    "    # Put in code here to execute all main cleaning steps:\n",
    "    # convert missing value codes into NaNs, ...\n",
    "\n",
    "    feat_info = pd.read_csv('AZDIAS_Feature_Summary.csv', sep=';')\n",
    "    \n",
    "    for index in feat_info.index:\n",
    "        feat_info['missing_or_unknown'][index]=feat_info['missing_or_unknown'][index].strip('[')\n",
    "        feat_info['missing_or_unknown'][index]=feat_info['missing_or_unknown'][index].strip(']')\n",
    "        feat_info['missing_or_unknown'][index]=feat_info['missing_or_unknown'][index].split(',')\n",
    "        \n",
    "        for item in range(len(feat_info['missing_or_unknown'][index])):\n",
    "            try:\n",
    "                feat_info['missing_or_unknown'][index][item]=int(feat_info['missing_or_unknown'][index][item])\n",
    "            except:\n",
    "                continue\n",
    "            \n",
    "        column_name=feat_info['attribute'][index]\n",
    "        df.loc[:,feat_info['attribute'][index]].replace(feat_info['missing_or_unknown'][index], np.nan, inplace=True)\n",
    "    \n",
    "    # remove selected columns and rows, ...\n",
    "    missing_values=df.isnull().sum()\n",
    "    outliers=missing_values[missing_values>200000]\n",
    "    df.drop(outliers.index, axis=1, inplace=True)\n",
    "    missing_row=df.isnull().sum(axis=1)\n",
    "\n",
    "    df_clean=df[missing_row<20]\n",
    "\n",
    "\n",
    "\n",
    "    \n",
    "    # select, re-encode, and engineer column values.\n",
    "    categorical=feat_info.query('type==\"categorical\"')\n",
    "    categorical_list=list(categorical['attribute'])\n",
    "    categorical=[x for x in categorical_list if x in df_clean.columns]\n",
    "    binary=[x for x in categorical if df_clean[x].nunique()==2]\n",
    "    multi_level=[x for x in categorical if df_clean[x].nunique()>2]\n",
    "    df_clean['OST_WEST_KZ'] = df_clean['OST_WEST_KZ'].apply({'W':0, 'O':1}.get)\n",
    "    \n",
    "    for col in multi_level:\n",
    "        df_clean.drop(col, axis=1, inplace=True)\n",
    "    \n",
    "    Mainstream=[1,3,5,8,10,12,14]\n",
    "    Avantgarde=[2,4,6,7,9,11,13,15]\n",
    "    \n",
    "    def movement(i):\n",
    "        if i in Mainstream:\n",
    "            return 0\n",
    "        elif i in Avantgarde:\n",
    "            return 1\n",
    "        else:\n",
    "            return i\n",
    "    df_clean.loc[:,'PRAEGENDE_JUGENDJAHRE']=df_clean.loc[:,'PRAEGENDE_JUGENDJAHRE'].apply(lambda x: movement(x))\n",
    "\n",
    "    x=[x+1 for x in range(15)]\n",
    "    y=[40,40,50,50,60,60,60,70,70,80,80,80,80,90,90]\n",
    "    decade=pd.Series(y, index=x)\n",
    "\n",
    "    for i in range(15):\n",
    "        df_clean['PRAEGENDE_JUGENDJAHRE_decade']=df_clean['PRAEGENDE_JUGENDJAHRE'].map(decade)\n",
    "        \n",
    "    mixed=feat_info.query('type==\"mixed\"')\n",
    "    mixed_list=list(mixed['attribute'])\n",
    "    mixed=[x for x in mixed_list if x in df_clean.columns]\n",
    "    df_clean.drop(mixed , axis=1, inplace=True)\n",
    "\n",
    "    # Return the cleaned dataframe.\n",
    "    return df_clean\n",
    "    \n",
    "    "
   ]
  },
  {
   "cell_type": "markdown",
   "metadata": {},
   "source": [
    "## Step 2: Feature Transformation\n",
    "\n",
    "### Step 2.1: Apply Feature Scaling\n",
    "\n",
    "Before we apply dimensionality reduction techniques to the data, we need to perform feature scaling so that the principal component vectors are not influenced by the natural differences in scale for features. Starting from this part of the project, you'll want to keep an eye on the [API reference page for sklearn](http://scikit-learn.org/stable/modules/classes.html) to help you navigate to all of the classes and functions that you'll need. In this substep, you'll need to check the following:\n",
    "\n",
    "- sklearn requires that data not have missing values in order for its estimators to work properly. So, before applying the scaler to your data, make sure that you've cleaned the DataFrame of the remaining missing values. This can be as simple as just removing all data points with missing data, or applying an [Imputer](http://scikit-learn.org/stable/modules/generated/sklearn.preprocessing.Imputer.html) to replace all missing values. You might also try a more complicated procedure where you temporarily remove missing values in order to compute the scaling parameters before re-introducing those missing values and applying imputation. Think about how much missing data you have and what possible effects each approach might have on your analysis, and justify your decision in the discussion section below.\n",
    "- For the actual scaling function, a [StandardScaler](http://scikit-learn.org/stable/modules/generated/sklearn.preprocessing.StandardScaler.html) instance is suggested, scaling each feature to mean 0 and standard deviation 1.\n",
    "- For these classes, you can make use of the `.fit_transform()` method to both fit a procedure to the data as well as apply the transformation to the data at the same time. Don't forget to keep the fit sklearn objects handy, since you'll be applying them to the customer demographics data towards the end of the project."
   ]
  },
  {
   "cell_type": "code",
   "execution_count": 28,
   "metadata": {},
   "outputs": [],
   "source": [
    "# If you've not yet cleaned the dataset of all NaN values, then investigate and\n",
    "# do that now.\n",
    "imputer=Imputer()\n",
    "azdias_low=pd.DataFrame(imputer.fit_transform(azdias_low), columns=azdias_low.columns)\n"
   ]
  },
  {
   "cell_type": "code",
   "execution_count": 29,
   "metadata": {},
   "outputs": [],
   "source": [
    "# Apply feature scaling to the general population demographics data.\n",
    "stdscaler=StandardScaler()\n",
    "azdias_low=pd.DataFrame(stdscaler.fit_transform(azdias_low), columns=azdias_low.columns)\n"
   ]
  },
  {
   "cell_type": "markdown",
   "metadata": {},
   "source": [
    "### Discussion 2.1: Apply Feature Scaling\n",
    "\n",
    "* Imputation replace the nan values with mean by default.\n",
    "* Standard Scaler changes the data scale to 0-1 for better handling."
   ]
  },
  {
   "cell_type": "markdown",
   "metadata": {},
   "source": [
    "### Step 2.2: Perform Dimensionality Reduction\n",
    "\n",
    "On your scaled data, you are now ready to apply dimensionality reduction techniques.\n",
    "\n",
    "- Use sklearn's [PCA](http://scikit-learn.org/stable/modules/generated/sklearn.decomposition.PCA.html) class to apply principal component analysis on the data, thus finding the vectors of maximal variance in the data. To start, you should not set any parameters (so all components are computed) or set a number of components that is at least half the number of features (so there's enough features to see the general trend in variability).\n",
    "- Check out the ratio of variance explained by each principal component as well as the cumulative variance explained. Try plotting the cumulative or sequential values using matplotlib's [`plot()`](https://matplotlib.org/api/_as_gen/matplotlib.pyplot.plot.html) function. Based on what you find, select a value for the number of transformed features you'll retain for the clustering part of the project.\n",
    "- Once you've made a choice for the number of components to keep, make sure you re-fit a PCA instance to perform the decided-on transformation."
   ]
  },
  {
   "cell_type": "code",
   "execution_count": 30,
   "metadata": {},
   "outputs": [],
   "source": [
    "# Apply PCA to the data.\n",
    "pca=PCA()\n",
    "x_pca=pca.fit_transform(azdias_low)\n"
   ]
  },
  {
   "cell_type": "code",
   "execution_count": 31,
   "metadata": {},
   "outputs": [
    {
     "data": {
      "image/png": "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\n",
      "text/plain": [
       "<matplotlib.figure.Figure at 0x7f4e84ea9898>"
      ]
     },
     "metadata": {
      "needs_background": "light"
     },
     "output_type": "display_data"
    }
   ],
   "source": [
    "# Investigate the variance accounted for by each principal component.\n",
    "def scree_plot(pca):\n",
    "    num_components = len(pca.explained_variance_ratio_)\n",
    "    ind = np.arange(num_components)\n",
    "    vals = pca.explained_variance_ratio_\n",
    " \n",
    "    plt.figure(figsize=(30, 20))\n",
    "    ax = plt.subplot(111)\n",
    "    cumvals = np.cumsum(vals)\n",
    "    ax.bar(ind, vals)\n",
    "    ax.plot(ind, cumvals)\n",
    "    for i in range(num_components):\n",
    "        ax.annotate(r\"%s%%\" % ((str(vals[i]*100)[:4])), (ind[i]+0.2, vals[i]), va=\"bottom\", ha=\"center\", fontsize=12)\n",
    " \n",
    "    ax.xaxis.set_tick_params(width=0)\n",
    "    ax.yaxis.set_tick_params(width=2, length=12)\n",
    " \n",
    "    ax.set_xlabel(\"Principal Component\")\n",
    "    ax.set_ylabel(\"Variance Explained (%)\")\n",
    "    plt.title('Explained Variance Per Principal Component')\n",
    "scree_plot(pca)\n",
    "    "
   ]
  },
  {
   "cell_type": "code",
   "execution_count": 32,
   "metadata": {},
   "outputs": [],
   "source": [
    "# Re-apply PCA to the data while selecting for number of components to retain.\n",
    "pca=PCA(n_components=15)\n",
    "x_pca=pca.fit_transform(azdias_low)\n"
   ]
  },
  {
   "cell_type": "code",
   "execution_count": 33,
   "metadata": {},
   "outputs": [
    {
     "data": {
      "text/plain": [
       "0.71087941839293678"
      ]
     },
     "execution_count": 33,
     "metadata": {},
     "output_type": "execute_result"
    }
   ],
   "source": [
    "pca.explained_variance_ratio_.sum()"
   ]
  },
  {
   "cell_type": "markdown",
   "metadata": {},
   "source": [
    "### Discussion 2.2: Perform Dimensionality Reduction\n",
    "\n",
    "By having 10 components, we can reach to more than 60% of the cumulative variance . So, the PCA model modified to 10 components."
   ]
  },
  {
   "cell_type": "markdown",
   "metadata": {},
   "source": [
    "### Step 2.3: Interpret Principal Components\n",
    "\n",
    "Now that we have our transformed principal components, it's a nice idea to check out the weight of each variable on the first few components to see if they can be interpreted in some fashion.\n",
    "\n",
    "As a reminder, each principal component is a unit vector that points in the direction of highest variance (after accounting for the variance captured by earlier principal components). The further a weight is from zero, the more the principal component is in the direction of the corresponding feature. If two features have large weights of the same sign (both positive or both negative), then increases in one tend expect to be associated with increases in the other. To contrast, features with different signs can be expected to show a negative correlation: increases in one variable should result in a decrease in the other.\n",
    "\n",
    "- To investigate the features, you should map each weight to their corresponding feature name, then sort the features according to weight. The most interesting features for each principal component, then, will be those at the beginning and end of the sorted list. Use the data dictionary document to help you understand these most prominent features, their relationships, and what a positive or negative value on the principal component might indicate.\n",
    "- You should investigate and interpret feature associations from the first three principal components in this substep. To help facilitate this, you should write a function that you can call at any time to print the sorted list of feature weights, for the *i*-th principal component. This might come in handy in the next step of the project, when you interpret the tendencies of the discovered clusters."
   ]
  },
  {
   "cell_type": "code",
   "execution_count": 34,
   "metadata": {},
   "outputs": [
    {
     "name": "stdout",
     "output_type": "stream",
     "text": [
      "PLZ8_ANTG3                      0.237910\n",
      "PLZ8_ANTG4                      0.230453\n",
      "CAMEO_INTL_2015_Wealth          0.213741\n",
      "ORTSGR_KLS9                     0.210500\n",
      "EWDICHTE                        0.208786\n",
      "HH_EINKOMMEN_SCORE              0.205194\n",
      "FINANZ_HAUSBAUER                0.172190\n",
      "PLZ8_ANTG2                      0.162355\n",
      "KBA05_ANTG4                     0.159773\n",
      "ARBEIT                          0.151976\n",
      "RELAT_AB                        0.143942\n",
      "ANZ_HAUSHALTE_AKTIV             0.142257\n",
      "KBA05_ANTG3                     0.139053\n",
      "FINANZ_SPARER                   0.122646\n",
      "SEMIO_PFLICHT                   0.094108\n",
      "SEMIO_REL                       0.091265\n",
      "SEMIO_RAT                       0.076441\n",
      "REGIOTYP                        0.072299\n",
      "SEMIO_TRADV                     0.067529\n",
      "SEMIO_FAM                       0.065114\n",
      "SEMIO_MAT                       0.064976\n",
      "SEMIO_KULT                      0.056315\n",
      "OST_WEST_KZ                     0.055385\n",
      "FINANZ_UNAUFFAELLIGER           0.051824\n",
      "W_KEIT_KIND_HH                  0.048447\n",
      "FINANZ_ANLEGER                  0.045614\n",
      "SEMIO_KAEM                      0.045431\n",
      "PLZ8_HHZ                        0.044385\n",
      "KKK                             0.040724\n",
      "SEMIO_SOZ                       0.038618\n",
      "                                  ...   \n",
      "HEALTH_TYP                      0.025568\n",
      "ANREDE_KZ                       0.010400\n",
      "SEMIO_KRIT                      0.009587\n",
      "KBA05_ANTG2                     0.007872\n",
      "PRAEGENDE_JUGENDJAHRE_decade   -0.000000\n",
      "RETOURTYP_BK_S                 -0.001379\n",
      "SOHO_KZ                        -0.002154\n",
      "ANZ_TITEL                      -0.002491\n",
      "SEMIO_VERT                     -0.041534\n",
      "WOHNDAUER_2008                 -0.051993\n",
      "SEMIO_LUST                     -0.054238\n",
      "MIN_GEBAEUDEJAHR               -0.056725\n",
      "SEMIO_ERL                      -0.058505\n",
      "ONLINE_AFFINITAET              -0.059574\n",
      "KBA13_ANZAHL_PKW               -0.081965\n",
      "ANZ_PERSONEN                   -0.082860\n",
      "FINANZ_VORSORGER               -0.090488\n",
      "ALTERSKATEGORIE_GROB           -0.095440\n",
      "GREEN_AVANTGARDE               -0.100276\n",
      "GEBAEUDETYP_RASTER             -0.123056\n",
      "CAMEO_INTL_2015_LifeStage      -0.124982\n",
      "BALLRAUM                       -0.136575\n",
      "PLZ8_GBZ                       -0.175289\n",
      "INNENSTADT                     -0.175499\n",
      "KONSUMNAEHE                    -0.177218\n",
      "FINANZ_MINIMALIST              -0.210646\n",
      "KBA05_GBZ                      -0.225551\n",
      "KBA05_ANTG1                    -0.232572\n",
      "PLZ8_ANTG1                     -0.236582\n",
      "MOBI_REGIO                     -0.250560\n",
      "Name: 0, Length: 63, dtype: float64\n"
     ]
    }
   ],
   "source": [
    "# Map weights for the first principal component to corresponding feature names\n",
    "# and then print the linked values, sorted by weight.\n",
    "# HINT: Try defining a function here or in a new cell that you can reuse in the\n",
    "# other cells.\n",
    "# Dimension indexing\n",
    "\n",
    "def pca_weights(pca,n):\n",
    "    \n",
    "    components = pd.DataFrame(pca.components_, columns = azdias_low.columns)\n",
    "    weights=components.iloc[n].sort_values(ascending=False)\n",
    "    return weights\n",
    "\n",
    "print(pca_weights(pca,0))\n"
   ]
  },
  {
   "cell_type": "code",
   "execution_count": 35,
   "metadata": {},
   "outputs": [
    {
     "name": "stdout",
     "output_type": "stream",
     "text": [
      "ALTERSKATEGORIE_GROB         0.274625\n",
      "SEMIO_ERL                    0.259053\n",
      "FINANZ_VORSORGER             0.238335\n",
      "SEMIO_LUST                   0.191487\n",
      "RETOURTYP_BK_S               0.159224\n",
      "SEMIO_KRIT                   0.139122\n",
      "SEMIO_KAEM                   0.136547\n",
      "ANREDE_KZ                    0.119119\n",
      "W_KEIT_KIND_HH               0.107850\n",
      "FINANZ_HAUSBAUER             0.101257\n",
      "SEMIO_DOM                    0.094686\n",
      "FINANZ_MINIMALIST            0.079482\n",
      "EWDICHTE                     0.069550\n",
      "ORTSGR_KLS9                  0.067757\n",
      "PLZ8_ANTG3                   0.065936\n",
      "WOHNDAUER_2008               0.065541\n",
      "PLZ8_ANTG4                   0.062659\n",
      "KBA05_ANTG4                  0.050974\n",
      "ARBEIT                       0.050214\n",
      "CAMEO_INTL_2015_Wealth       0.049907\n",
      "RELAT_AB                     0.049161\n",
      "ANZ_HAUSHALTE_AKTIV          0.047207\n",
      "PLZ8_ANTG2                   0.045651\n",
      "HH_EINKOMMEN_SCORE           0.034893\n",
      "VERS_TYP                     0.033585\n",
      "ANZ_HH_TITEL                 0.027105\n",
      "KBA05_ANTG3                  0.026712\n",
      "OST_WEST_KZ                  0.018244\n",
      "CAMEO_INTL_2015_LifeStage    0.016179\n",
      "REGIOTYP                     0.013537\n",
      "                               ...   \n",
      "KKK                         -0.000885\n",
      "SOHO_KZ                     -0.001722\n",
      "GREEN_AVANTGARDE            -0.004112\n",
      "KBA05_ANTG2                 -0.010697\n",
      "KBA13_ANZAHL_PKW            -0.026252\n",
      "GEBAEUDETYP_RASTER          -0.029779\n",
      "MIN_GEBAEUDEJAHR            -0.043601\n",
      "BALLRAUM                    -0.045928\n",
      "KONSUMNAEHE                 -0.049968\n",
      "PLZ8_GBZ                    -0.051320\n",
      "KBA05_ANTG1                 -0.051620\n",
      "ANZ_PERSONEN                -0.052026\n",
      "INNENSTADT                  -0.055351\n",
      "HEALTH_TYP                  -0.058886\n",
      "MOBI_REGIO                  -0.059811\n",
      "KBA05_GBZ                   -0.062366\n",
      "PLZ8_ANTG1                  -0.063200\n",
      "SEMIO_VERT                  -0.092752\n",
      "SEMIO_SOZ                   -0.129652\n",
      "ONLINE_AFFINITAET           -0.156744\n",
      "SEMIO_RAT                   -0.171509\n",
      "SEMIO_MAT                   -0.183473\n",
      "FINANZ_ANLEGER              -0.199897\n",
      "SEMIO_FAM                   -0.217662\n",
      "FINANZ_UNAUFFAELLIGER       -0.229570\n",
      "SEMIO_PFLICHT               -0.242561\n",
      "SEMIO_TRADV                 -0.243432\n",
      "FINANZ_SPARER               -0.245098\n",
      "SEMIO_KULT                  -0.252090\n",
      "SEMIO_REL                   -0.281488\n",
      "Name: 1, Length: 63, dtype: float64\n"
     ]
    }
   ],
   "source": [
    "# Map weights for the second principal component to corresponding feature names\n",
    "# and then print the linked values, sorted by weight.\n",
    "\n",
    "print(pca_weights(pca,1))"
   ]
  },
  {
   "cell_type": "code",
   "execution_count": 36,
   "metadata": {},
   "outputs": [
    {
     "name": "stdout",
     "output_type": "stream",
     "text": [
      "SEMIO_VERT                   0.342038\n",
      "SEMIO_SOZ                    0.250937\n",
      "SEMIO_FAM                    0.227525\n",
      "SEMIO_KULT                   0.209309\n",
      "FINANZ_MINIMALIST            0.171370\n",
      "FINANZ_VORSORGER             0.128157\n",
      "RETOURTYP_BK_S               0.126194\n",
      "ALTERSKATEGORIE_GROB         0.114202\n",
      "W_KEIT_KIND_HH               0.100973\n",
      "SEMIO_LUST                   0.087893\n",
      "PLZ8_ANTG4                   0.044847\n",
      "ORTSGR_KLS9                  0.044744\n",
      "EWDICHTE                     0.044372\n",
      "PLZ8_ANTG3                   0.044149\n",
      "GREEN_AVANTGARDE             0.041942\n",
      "WOHNDAUER_2008               0.041258\n",
      "SEMIO_REL                    0.035527\n",
      "ARBEIT                       0.035098\n",
      "SEMIO_MAT                    0.032061\n",
      "RELAT_AB                     0.031787\n",
      "PLZ8_ANTG2                   0.028935\n",
      "KBA05_ANTG4                  0.028786\n",
      "CAMEO_INTL_2015_Wealth       0.028406\n",
      "ANZ_HAUSHALTE_AKTIV          0.027141\n",
      "OST_WEST_KZ                  0.016972\n",
      "VERS_TYP                     0.016340\n",
      "ANZ_HH_TITEL                 0.014830\n",
      "ANZ_TITEL                    0.009821\n",
      "KBA05_ANTG3                  0.007432\n",
      "PLZ8_HHZ                     0.001996\n",
      "                               ...   \n",
      "CAMEO_INTL_2015_LifeStage   -0.004658\n",
      "KKK                         -0.011372\n",
      "KBA05_ANTG2                 -0.012698\n",
      "ANZ_PERSONEN                -0.013155\n",
      "HH_EINKOMMEN_SCORE          -0.017326\n",
      "MIN_GEBAEUDEJAHR            -0.020263\n",
      "KBA05_ANTG1                 -0.023378\n",
      "KBA13_ANZAHL_PKW            -0.024548\n",
      "KBA05_GBZ                   -0.027504\n",
      "HEALTH_TYP                  -0.029332\n",
      "GEBAEUDETYP_RASTER          -0.029380\n",
      "MOBI_REGIO                  -0.029449\n",
      "BALLRAUM                    -0.033127\n",
      "KONSUMNAEHE                 -0.036299\n",
      "FINANZ_HAUSBAUER            -0.037883\n",
      "PLZ8_GBZ                    -0.039692\n",
      "INNENSTADT                  -0.041288\n",
      "PLZ8_ANTG1                  -0.045639\n",
      "ONLINE_AFFINITAET           -0.071026\n",
      "SEMIO_PFLICHT               -0.110934\n",
      "SEMIO_TRADV                 -0.111472\n",
      "FINANZ_UNAUFFAELLIGER       -0.126424\n",
      "FINANZ_SPARER               -0.135214\n",
      "SEMIO_ERL                   -0.147952\n",
      "FINANZ_ANLEGER              -0.211200\n",
      "SEMIO_RAT                   -0.244324\n",
      "SEMIO_KRIT                  -0.264882\n",
      "SEMIO_DOM                   -0.310640\n",
      "SEMIO_KAEM                  -0.329452\n",
      "ANREDE_KZ                   -0.362463\n",
      "Name: 2, Length: 63, dtype: float64\n"
     ]
    }
   ],
   "source": [
    "# Map weights for the third principal component to corresponding feature names\n",
    "# and then print the linked values, sorted by weight.\n",
    "\n",
    "print(pca_weights(pca,2))"
   ]
  },
  {
   "cell_type": "markdown",
   "metadata": {},
   "source": [
    "### Discussion 2.3: Interpret Principal Components\n",
    "\n",
    "* In the first principal component, it seems \"PLZ8_ANTG3\" and \"PLZ8_ANTG3\" which are related to higher family members numbers have positive effect on PCA, while lower family members have negative effect. \"MOBI_REGIO\" which is about movement pattern has negative effect as well. \n",
    "* \"ALTERSKATEGORIE_GROB\" and \"SEMIO_ERL\" have positive effect on th emodel. The parameters are about age and having event-oriented personality while having religious (\"SEMIO_KULT\") and cultral-minded(\"SEMIO_REL\") personality has negative effect on the model.\n",
    "* Having socially minded (\"SEMIO_VERT\")  and dreamful (\"SEMIO_SOZ\") personality show positive effect while combative attitude (\"SEMIO_KAEM\") and gender(\"ANREDE_KZ\") show negative effect."
   ]
  },
  {
   "cell_type": "markdown",
   "metadata": {},
   "source": [
    "## Step 3: Clustering\n",
    "\n",
    "### Step 3.1: Apply Clustering to General Population\n",
    "\n",
    "You've assessed and cleaned the demographics data, then scaled and transformed them. Now, it's time to see how the data clusters in the principal components space. In this substep, you will apply k-means clustering to the dataset and use the average within-cluster distances from each point to their assigned cluster's centroid to decide on a number of clusters to keep.\n",
    "\n",
    "- Use sklearn's [KMeans](http://scikit-learn.org/stable/modules/generated/sklearn.cluster.KMeans.html#sklearn.cluster.KMeans) class to perform k-means clustering on the PCA-transformed data.\n",
    "- Then, compute the average difference from each point to its assigned cluster's center. **Hint**: The KMeans object's `.score()` method might be useful here, but note that in sklearn, scores tend to be defined so that larger is better. Try applying it to a small, toy dataset, or use an internet search to help your understanding.\n",
    "- Perform the above two steps for a number of different cluster counts. You can then see how the average distance decreases with an increasing number of clusters. However, each additional cluster provides a smaller net benefit. Use this fact to select a final number of clusters in which to group the data. **Warning**: because of the large size of the dataset, it can take a long time for the algorithm to resolve. The more clusters to fit, the longer the algorithm will take. You should test for cluster counts through at least 10 clusters to get the full picture, but you shouldn't need to test for a number of clusters above about 30.\n",
    "- Once you've selected a final number of clusters to use, re-fit a KMeans instance to perform the clustering operation. Make sure that you also obtain the cluster assignments for the general demographics data, since you'll be using them in the final Step 3.3."
   ]
  },
  {
   "cell_type": "code",
   "execution_count": 37,
   "metadata": {},
   "outputs": [],
   "source": [
    "# Over a number of different cluster counts...\n",
    "def get_score(center, data):\n",
    "    kmeans=KMeans(n_clusters=center , random_state=3)\n",
    "    model=kmeans.fit(data)\n",
    "    return (np.abs(model.score(data)))\n",
    "\n",
    "    # run k-means clustering on the data and...\n",
    "    \n",
    "    \n",
    "    # compute the average within-cluster distances.\n",
    "scores=[]\n",
    "centers=list(range(1,15))\n",
    "for center in centers:\n",
    "    scores.append(get_score(center, x_pca))\n",
    "    \n"
   ]
  },
  {
   "cell_type": "code",
   "execution_count": 38,
   "metadata": {},
   "outputs": [
    {
     "data": {
      "text/plain": [
       "Text(0,0.5,'scores')"
      ]
     },
     "execution_count": 38,
     "metadata": {},
     "output_type": "execute_result"
    },
    {
     "data": {
      "image/png": "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\n",
      "text/plain": [
       "<matplotlib.figure.Figure at 0x7f4e81ab9668>"
      ]
     },
     "metadata": {
      "needs_background": "light"
     },
     "output_type": "display_data"
    }
   ],
   "source": [
    "# Investigate the change in within-cluster distance across number of clusters.\n",
    "# HINT: Use matplotlib's plot function to visualize this relationship.\n",
    "plt.plot(centers,scores, linestyle='--', marker='o', color='b')\n",
    "plt.xlabel('centers')\n",
    "plt.ylabel('scores')\n"
   ]
  },
  {
   "cell_type": "code",
   "execution_count": 39,
   "metadata": {},
   "outputs": [],
   "source": [
    "# Re-fit the k-means model with the selected number of clusters and obtain\n",
    "# cluster predictions for the general population demographics data.\n",
    "kmeans=KMeans(n_clusters=10 , random_state=3)\n",
    "model=kmeans.fit(x_pca)\n",
    "label=kmeans.predict(x_pca)\n"
   ]
  },
  {
   "cell_type": "markdown",
   "metadata": {},
   "source": [
    "### Discussion 3.1: Apply Clustering to General Population\n",
    "\n",
    "Based on elbow method in K-means it seems that 10 clusters lead to good performance for the model."
   ]
  },
  {
   "cell_type": "markdown",
   "metadata": {},
   "source": [
    "### Step 3.2: Apply All Steps to the Customer Data\n",
    "\n",
    "Now that you have clusters and cluster centers for the general population, it's time to see how the customer data maps on to those clusters. Take care to not confuse this for re-fitting all of the models to the customer data. Instead, you're going to use the fits from the general population to clean, transform, and cluster the customer data. In the last step of the project, you will interpret how the general population fits apply to the customer data.\n",
    "\n",
    "- Don't forget when loading in the customers data, that it is semicolon (`;`) delimited.\n",
    "- Apply the same feature wrangling, selection, and engineering steps to the customer demographics using the `clean_data()` function you created earlier. (You can assume that the customer demographics data has similar meaning behind missing data patterns as the general demographics data.)\n",
    "- Use the sklearn objects from the general demographics data, and apply their transformations to the customers data. That is, you should not be using a `.fit()` or `.fit_transform()` method to re-fit the old objects, nor should you be creating new sklearn objects! Carry the data through the feature scaling, PCA, and clustering steps, obtaining cluster assignments for all of the data in the customer demographics data."
   ]
  },
  {
   "cell_type": "code",
   "execution_count": 40,
   "metadata": {},
   "outputs": [],
   "source": [
    "# Load in the customer demographics data.\n",
    "customers = pd.read_csv('Udacity_CUSTOMERS_Subset.csv', sep=';')\n"
   ]
  },
  {
   "cell_type": "code",
   "execution_count": 41,
   "metadata": {},
   "outputs": [
    {
     "name": "stderr",
     "output_type": "stream",
     "text": [
      "/opt/conda/lib/python3.6/site-packages/ipykernel_launcher.py:46: SettingWithCopyWarning: \n",
      "A value is trying to be set on a copy of a slice from a DataFrame.\n",
      "Try using .loc[row_indexer,col_indexer] = value instead\n",
      "\n",
      "See the caveats in the documentation: http://pandas.pydata.org/pandas-docs/stable/indexing.html#indexing-view-versus-copy\n",
      "/opt/conda/lib/python3.6/site-packages/pandas/core/frame.py:3697: SettingWithCopyWarning: \n",
      "A value is trying to be set on a copy of a slice from a DataFrame\n",
      "\n",
      "See the caveats in the documentation: http://pandas.pydata.org/pandas-docs/stable/indexing.html#indexing-view-versus-copy\n",
      "  errors=errors)\n",
      "/opt/conda/lib/python3.6/site-packages/pandas/core/indexing.py:543: SettingWithCopyWarning: \n",
      "A value is trying to be set on a copy of a slice from a DataFrame.\n",
      "Try using .loc[row_indexer,col_indexer] = value instead\n",
      "\n",
      "See the caveats in the documentation: http://pandas.pydata.org/pandas-docs/stable/indexing.html#indexing-view-versus-copy\n",
      "  self.obj[item] = s\n",
      "/opt/conda/lib/python3.6/site-packages/ipykernel_launcher.py:68: SettingWithCopyWarning: \n",
      "A value is trying to be set on a copy of a slice from a DataFrame.\n",
      "Try using .loc[row_indexer,col_indexer] = value instead\n",
      "\n",
      "See the caveats in the documentation: http://pandas.pydata.org/pandas-docs/stable/indexing.html#indexing-view-versus-copy\n"
     ]
    }
   ],
   "source": [
    "# Apply preprocessing, feature transformation, and clustering from the general\n",
    "# demographics onto the customer data, obtaining cluster predictions for the\n",
    "# customer demographics data.\n",
    "customers_clean=clean_data(customers)\n",
    "imputer=Imputer()\n",
    "customers_clean=pd.DataFrame(imputer.fit_transform(customers_clean), columns=customers_clean.columns)\n",
    "stdscaler=StandardScaler()\n",
    "customers_clean=pd.DataFrame(stdscaler.fit_transform(customers_clean), columns=customers_clean.columns)\n",
    "\n"
   ]
  },
  {
   "cell_type": "code",
   "execution_count": 42,
   "metadata": {},
   "outputs": [],
   "source": [
    "pca1=PCA(n_components=15)\n",
    "x_pca1=pca1.fit_transform(customers_clean)\n",
    "kmeans1=KMeans(n_clusters=10 , random_state=3)\n",
    "model1=kmeans1.fit(x_pca1)\n",
    "label1=kmeans1.predict(x_pca1)\n"
   ]
  },
  {
   "cell_type": "markdown",
   "metadata": {},
   "source": [
    "### Step 3.3: Compare Customer Data to Demographics Data\n",
    "\n",
    "At this point, you have clustered data based on demographics of the general population of Germany, and seen how the customer data for a mail-order sales company maps onto those demographic clusters. In this final substep, you will compare the two cluster distributions to see where the strongest customer base for the company is.\n",
    "\n",
    "Consider the proportion of persons in each cluster for the general population, and the proportions for the customers. If we think the company's customer base to be universal, then the cluster assignment proportions should be fairly similar between the two. If there are only particular segments of the population that are interested in the company's products, then we should see a mismatch from one to the other. If there is a higher proportion of persons in a cluster for the customer data compared to the general population (e.g. 5% of persons are assigned to a cluster for the general population, but 15% of the customer data is closest to that cluster's centroid) then that suggests the people in that cluster to be a target audience for the company. On the other hand, the proportion of the data in a cluster being larger in the general population than the customer data (e.g. only 2% of customers closest to a population centroid that captures 6% of the data) suggests that group of persons to be outside of the target demographics.\n",
    "\n",
    "Take a look at the following points in this step:\n",
    "\n",
    "- Compute the proportion of data points in each cluster for the general population and the customer data. Visualizations will be useful here: both for the individual dataset proportions, but also to visualize the ratios in cluster representation between groups. Seaborn's [`countplot()`](https://seaborn.pydata.org/generated/seaborn.countplot.html) or [`barplot()`](https://seaborn.pydata.org/generated/seaborn.barplot.html) function could be handy.\n",
    "  - Recall the analysis you performed in step 1.1.3 of the project, where you separated out certain data points from the dataset if they had more than a specified threshold of missing values. If you found that this group was qualitatively different from the main bulk of the data, you should treat this as an additional data cluster in this analysis. Make sure that you account for the number of data points in this subset, for both the general population and customer datasets, when making your computations!\n",
    "- Which cluster or clusters are overrepresented in the customer dataset compared to the general population? Select at least one such cluster and infer what kind of people might be represented by that cluster. Use the principal component interpretations from step 2.3 or look at additional components to help you make this inference. Alternatively, you can use the `.inverse_transform()` method of the PCA and StandardScaler objects to transform centroids back to the original data space and interpret the retrieved values directly.\n",
    "- Perform a similar investigation for the underrepresented clusters. Which cluster or clusters are underrepresented in the customer dataset compared to the general population, and what kinds of people are typified by these clusters?"
   ]
  },
  {
   "cell_type": "code",
   "execution_count": 43,
   "metadata": {},
   "outputs": [
    {
     "name": "stderr",
     "output_type": "stream",
     "text": [
      "/opt/conda/lib/python3.6/site-packages/matplotlib/figure.py:418: UserWarning: matplotlib is currently using a non-GUI backend, so cannot show the figure\n",
      "  \"matplotlib is currently using a non-GUI backend, \"\n"
     ]
    },
    {
     "data": {
      "image/png": "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\n",
      "text/plain": [
       "<matplotlib.figure.Figure at 0x7f4e84cff2e8>"
      ]
     },
     "metadata": {
      "needs_background": "light"
     },
     "output_type": "display_data"
    }
   ],
   "source": [
    "# Compare the proportion of data in each cluster for the customer data to the\n",
    "# proportion of data in each cluster for the general population.\n",
    "\n",
    "fig, ax =plt.subplots(1,2 , figsize=(12,6))\n",
    "sns.countplot(label, ax=ax[0])\n",
    "ax[0].set_title('Population Clusters')\n",
    "\n",
    "sns.countplot(label1, ax=ax[1])\n",
    "ax[1].set_title('Customer Clusters')\n",
    "\n",
    "fig.show()"
   ]
  },
  {
   "cell_type": "code",
   "execution_count": 75,
   "metadata": {},
   "outputs": [
    {
     "name": "stdout",
     "output_type": "stream",
     "text": [
      "ALTERSKATEGORIE_GROB               3.740011\n",
      "ANREDE_KZ                          1.045465\n",
      "FINANZ_MINIMALIST                  4.936902\n",
      "FINANZ_SPARER                      1.171725\n",
      "FINANZ_VORSORGER                   4.816005\n",
      "FINANZ_ANLEGER                     1.601268\n",
      "FINANZ_UNAUFFAELLIGER              1.596681\n",
      "FINANZ_HAUSBAUER                   2.115244\n",
      "GEBURTSJAHR                     1947.613153\n",
      "GREEN_AVANTGARDE                   0.333785\n",
      "HEALTH_TYP                         2.098212\n",
      "RETOURTYP_BK_S                     3.865869\n",
      "SEMIO_SOZ                          4.809830\n",
      "SEMIO_FAM                          4.399032\n",
      "SEMIO_REL                          3.279654\n",
      "SEMIO_MAT                          2.602572\n",
      "SEMIO_VERT                         6.128156\n",
      "SEMIO_LUST                         5.610233\n",
      "SEMIO_ERL                          4.793649\n",
      "SEMIO_KULT                         4.633785\n",
      "SEMIO_RAT                          2.222994\n",
      "SEMIO_KRIT                         2.962125\n",
      "SEMIO_DOM                          2.988233\n",
      "SEMIO_KAEM                         2.719607\n",
      "SEMIO_PFLICHT                      2.682884\n",
      "SEMIO_TRADV                        2.626022\n",
      "SOHO_KZ                            0.011626\n",
      "VERS_TYP                           1.514715\n",
      "ALTER_HH                          13.956818\n",
      "ANZ_PERSONEN                       2.635230\n",
      "                                   ...     \n",
      "WOHNDAUER_2008                     8.899563\n",
      "ANZ_HAUSHALTE_AKTIV                1.864618\n",
      "ANZ_HH_TITEL                       0.006469\n",
      "KONSUMNAEHE                        4.064374\n",
      "MIN_GEBAEUDEJAHR                1993.119401\n",
      "OST_WEST_KZ                        0.038575\n",
      "KBA05_ANTG1                        2.890412\n",
      "KBA05_ANTG2                        0.935156\n",
      "KBA05_ANTG3                        0.054088\n",
      "KBA05_ANTG4                        0.020166\n",
      "KBA05_GBZ                          4.175883\n",
      "BALLRAUM                           5.667048\n",
      "EWDICHTE                           2.413565\n",
      "INNENSTADT                         6.153174\n",
      "GEBAEUDETYP_RASTER                 4.158350\n",
      "KKK                                3.170210\n",
      "MOBI_REGIO                         4.345287\n",
      "ONLINE_AFFINITAET                  2.984339\n",
      "REGIOTYP                           5.089639\n",
      "KBA13_ANZAHL_PKW                 681.568854\n",
      "PLZ8_ANTG1                         3.182682\n",
      "PLZ8_ANTG2                         2.159950\n",
      "PLZ8_ANTG3                         0.680095\n",
      "PLZ8_ANTG4                         0.112168\n",
      "PLZ8_HHZ                           3.275204\n",
      "PLZ8_GBZ                           3.891030\n",
      "ARBEIT                             2.194838\n",
      "ORTSGR_KLS9                        3.227364\n",
      "RELAT_AB                           2.009050\n",
      "PRAEGENDE_JUGENDJAHRE_decade      40.000000\n",
      "Length: 63, dtype: float64\n"
     ]
    }
   ],
   "source": [
    "# What kinds of people are part of a cluster that is overrepresented in the\n",
    "# customer data compared to the general population?\n",
    "\n",
    "centroid_9=stdscaler.inverse_transform(pca1.inverse_transform(model1.cluster_centers_[9]))\n",
    "underrepresented_9=pd.Series(data=centroid_9, index=customers_clean.columns)\n",
    "print(overrepresented_9)"
   ]
  },
  {
   "cell_type": "code",
   "execution_count": 76,
   "metadata": {},
   "outputs": [
    {
     "name": "stdout",
     "output_type": "stream",
     "text": [
      "ALTERSKATEGORIE_GROB               3.731210\n",
      "ANREDE_KZ                          1.437991\n",
      "FINANZ_MINIMALIST                  2.152535\n",
      "FINANZ_SPARER                      1.116215\n",
      "FINANZ_VORSORGER                   5.108470\n",
      "FINANZ_ANLEGER                     0.801829\n",
      "FINANZ_UNAUFFAELLIGER              1.326405\n",
      "FINANZ_HAUSBAUER                   5.104363\n",
      "GEBURTSJAHR                     1941.326908\n",
      "GREEN_AVANTGARDE                   0.194552\n",
      "HEALTH_TYP                         1.793968\n",
      "RETOURTYP_BK_S                     3.536511\n",
      "SEMIO_SOZ                          4.130660\n",
      "SEMIO_FAM                          4.023305\n",
      "SEMIO_REL                          2.475106\n",
      "SEMIO_MAT                          3.787152\n",
      "SEMIO_VERT                         4.656581\n",
      "SEMIO_LUST                         6.376907\n",
      "SEMIO_ERL                          5.435850\n",
      "SEMIO_KULT                         3.069564\n",
      "SEMIO_RAT                          2.192640\n",
      "SEMIO_KRIT                         4.306462\n",
      "SEMIO_DOM                          4.557424\n",
      "SEMIO_KAEM                         3.960200\n",
      "SEMIO_PFLICHT                      1.833603\n",
      "SEMIO_TRADV                        1.827467\n",
      "SOHO_KZ                            0.003218\n",
      "VERS_TYP                           1.738722\n",
      "ALTER_HH                           9.407732\n",
      "ANZ_PERSONEN                       1.548268\n",
      "                                   ...     \n",
      "WOHNDAUER_2008                     5.449833\n",
      "ANZ_HAUSHALTE_AKTIV              163.103565\n",
      "ANZ_HH_TITEL                       6.976862\n",
      "KONSUMNAEHE                        1.382178\n",
      "MIN_GEBAEUDEJAHR                1990.450220\n",
      "OST_WEST_KZ                       -0.217904\n",
      "KBA05_ANTG1                       -0.117494\n",
      "KBA05_ANTG2                       -0.532903\n",
      "KBA05_ANTG3                       -1.079088\n",
      "KBA05_ANTG4                        2.573985\n",
      "KBA05_GBZ                          0.407202\n",
      "BALLRAUM                           4.147969\n",
      "EWDICHTE                           5.145561\n",
      "INNENSTADT                         4.661097\n",
      "GEBAEUDETYP_RASTER                 1.577591\n",
      "KKK                                1.760392\n",
      "MOBI_REGIO                        -0.069685\n",
      "ONLINE_AFFINITAET                  1.671325\n",
      "REGIOTYP                           3.548422\n",
      "KBA13_ANZAHL_PKW                 637.632193\n",
      "PLZ8_ANTG1                         2.336201\n",
      "PLZ8_ANTG2                         2.375083\n",
      "PLZ8_ANTG3                         1.381059\n",
      "PLZ8_ANTG4                         1.183945\n",
      "PLZ8_HHZ                           4.274236\n",
      "PLZ8_GBZ                           3.006461\n",
      "ARBEIT                             3.320770\n",
      "ORTSGR_KLS9                        7.246126\n",
      "RELAT_AB                           4.759309\n",
      "PRAEGENDE_JUGENDJAHRE_decade      40.000000\n",
      "Length: 63, dtype: float64\n"
     ]
    }
   ],
   "source": [
    "# What kinds of people are part of a cluster that is underrepresented in the\n",
    "# customer data compared to the general population?\n",
    "centroid_4=stdscaler.inverse_transform(pca1.inverse_transform(model1.cluster_centers_[4]))\n",
    "underrepresented_4=pd.Series(data=centroid_4, index=customers_clean.columns)\n",
    "print(underrepresented_4)"
   ]
  },
  {
   "cell_type": "markdown",
   "metadata": {},
   "source": [
    "### Discussion 3.3: Compare Customer Data to Demographics Data\n",
    "\n",
    "* The overrepresented group which are very popular in the mailing company have these characteristics:\n",
    "They are males between 40-60 years old mostly in the 40s decade of their life living in high share of 1-2 family houses. They are very high materialistic with high financial interests and high net income. Most of them own houses and less academic people present in their houses. They are also low cultural minded and very low dreamful.\n",
    "\n",
    "\n",
    "* The underrepresented group which can be the new target for mailing company are males and females between 40-60 yearsold. They have low financial interest with very low income. There are more academic people in the house and afew of them are house ownners. They are averagely materialistic and dreaful. Also, they are high cultural minded and have low online affinities."
   ]
  },
  {
   "cell_type": "markdown",
   "metadata": {},
   "source": [
    "> Congratulations on making it this far in the project! Before you finish, make sure to check through the entire notebook from top to bottom to make sure that your analysis follows a logical flow and all of your findings are documented in **Discussion** cells. Once you've checked over all of your work, you should export the notebook as an HTML document to submit for evaluation. You can do this from the menu, navigating to **File -> Download as -> HTML (.html)**. You will submit both that document and this notebook for your project submission."
   ]
  },
  {
   "cell_type": "code",
   "execution_count": null,
   "metadata": {},
   "outputs": [],
   "source": []
  }
 ],
 "metadata": {
  "kernelspec": {
   "display_name": "Python 3",
   "language": "python",
   "name": "python3"
  },
  "language_info": {
   "codemirror_mode": {
    "name": "ipython",
    "version": 3
   },
   "file_extension": ".py",
   "mimetype": "text/x-python",
   "name": "python",
   "nbconvert_exporter": "python",
   "pygments_lexer": "ipython3",
   "version": "3.6.3"
  }
 },
 "nbformat": 4,
 "nbformat_minor": 2
}
